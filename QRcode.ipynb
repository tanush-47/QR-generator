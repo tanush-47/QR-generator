{
  "nbformat": 4,
  "nbformat_minor": 0,
  "metadata": {
    "colab": {
      "provenance": [],
      "authorship_tag": "ABX9TyODWTYgtOpfqlPO6RNgVV4A",
      "include_colab_link": true
    },
    "kernelspec": {
      "name": "python3",
      "display_name": "Python 3"
    },
    "language_info": {
      "name": "python"
    },
    "widgets": {
      "application/vnd.jupyter.widget-state+json": {
        "60c513fb44d843db8b13a34c2d8d4c3c": {
          "model_module": "@jupyter-widgets/controls",
          "model_name": "TextareaModel",
          "model_module_version": "1.5.0",
          "state": {
            "_dom_classes": [],
            "_model_module": "@jupyter-widgets/controls",
            "_model_module_version": "1.5.0",
            "_model_name": "TextareaModel",
            "_view_count": null,
            "_view_module": "@jupyter-widgets/controls",
            "_view_module_version": "1.5.0",
            "_view_name": "TextareaView",
            "continuous_update": true,
            "description": "Data:",
            "description_tooltip": null,
            "disabled": false,
            "layout": "IPY_MODEL_557f5ef7601441a897b699cf169dcc74",
            "placeholder": "​",
            "rows": null,
            "style": "IPY_MODEL_941c9e879cdd4c7a8663edded4de331a",
            "value": "Enter text or URL here"
          }
        },
        "557f5ef7601441a897b699cf169dcc74": {
          "model_module": "@jupyter-widgets/base",
          "model_name": "LayoutModel",
          "model_module_version": "1.2.0",
          "state": {
            "_model_module": "@jupyter-widgets/base",
            "_model_module_version": "1.2.0",
            "_model_name": "LayoutModel",
            "_view_count": null,
            "_view_module": "@jupyter-widgets/base",
            "_view_module_version": "1.2.0",
            "_view_name": "LayoutView",
            "align_content": null,
            "align_items": null,
            "align_self": null,
            "border": null,
            "bottom": null,
            "display": null,
            "flex": null,
            "flex_flow": null,
            "grid_area": null,
            "grid_auto_columns": null,
            "grid_auto_flow": null,
            "grid_auto_rows": null,
            "grid_column": null,
            "grid_gap": null,
            "grid_row": null,
            "grid_template_areas": null,
            "grid_template_columns": null,
            "grid_template_rows": null,
            "height": null,
            "justify_content": null,
            "justify_items": null,
            "left": null,
            "margin": null,
            "max_height": null,
            "max_width": null,
            "min_height": null,
            "min_width": null,
            "object_fit": null,
            "object_position": null,
            "order": null,
            "overflow": null,
            "overflow_x": null,
            "overflow_y": null,
            "padding": null,
            "right": null,
            "top": null,
            "visibility": null,
            "width": null
          }
        },
        "941c9e879cdd4c7a8663edded4de331a": {
          "model_module": "@jupyter-widgets/controls",
          "model_name": "DescriptionStyleModel",
          "model_module_version": "1.5.0",
          "state": {
            "_model_module": "@jupyter-widgets/controls",
            "_model_module_version": "1.5.0",
            "_model_name": "DescriptionStyleModel",
            "_view_count": null,
            "_view_module": "@jupyter-widgets/base",
            "_view_module_version": "1.2.0",
            "_view_name": "StyleView",
            "description_width": ""
          }
        },
        "bb8a66d176bf4d3b86f5c851e7268aae": {
          "model_module": "@jupyter-widgets/controls",
          "model_name": "TextModel",
          "model_module_version": "1.5.0",
          "state": {
            "_dom_classes": [],
            "_model_module": "@jupyter-widgets/controls",
            "_model_module_version": "1.5.0",
            "_model_name": "TextModel",
            "_view_count": null,
            "_view_module": "@jupyter-widgets/controls",
            "_view_module_version": "1.5.0",
            "_view_name": "TextView",
            "continuous_update": true,
            "description": "Fill Color:",
            "description_tooltip": null,
            "disabled": false,
            "layout": "IPY_MODEL_1e40df7f1f644aaf8f707749480079f3",
            "placeholder": "​",
            "style": "IPY_MODEL_1f40ee7c2ba244348be9e16008c137bc",
            "value": "black"
          }
        },
        "1e40df7f1f644aaf8f707749480079f3": {
          "model_module": "@jupyter-widgets/base",
          "model_name": "LayoutModel",
          "model_module_version": "1.2.0",
          "state": {
            "_model_module": "@jupyter-widgets/base",
            "_model_module_version": "1.2.0",
            "_model_name": "LayoutModel",
            "_view_count": null,
            "_view_module": "@jupyter-widgets/base",
            "_view_module_version": "1.2.0",
            "_view_name": "LayoutView",
            "align_content": null,
            "align_items": null,
            "align_self": null,
            "border": null,
            "bottom": null,
            "display": null,
            "flex": null,
            "flex_flow": null,
            "grid_area": null,
            "grid_auto_columns": null,
            "grid_auto_flow": null,
            "grid_auto_rows": null,
            "grid_column": null,
            "grid_gap": null,
            "grid_row": null,
            "grid_template_areas": null,
            "grid_template_columns": null,
            "grid_template_rows": null,
            "height": null,
            "justify_content": null,
            "justify_items": null,
            "left": null,
            "margin": null,
            "max_height": null,
            "max_width": null,
            "min_height": null,
            "min_width": null,
            "object_fit": null,
            "object_position": null,
            "order": null,
            "overflow": null,
            "overflow_x": null,
            "overflow_y": null,
            "padding": null,
            "right": null,
            "top": null,
            "visibility": null,
            "width": null
          }
        },
        "1f40ee7c2ba244348be9e16008c137bc": {
          "model_module": "@jupyter-widgets/controls",
          "model_name": "DescriptionStyleModel",
          "model_module_version": "1.5.0",
          "state": {
            "_model_module": "@jupyter-widgets/controls",
            "_model_module_version": "1.5.0",
            "_model_name": "DescriptionStyleModel",
            "_view_count": null,
            "_view_module": "@jupyter-widgets/base",
            "_view_module_version": "1.2.0",
            "_view_name": "StyleView",
            "description_width": ""
          }
        },
        "96917d0543c747d5ad8238a530bb6e79": {
          "model_module": "@jupyter-widgets/controls",
          "model_name": "TextModel",
          "model_module_version": "1.5.0",
          "state": {
            "_dom_classes": [],
            "_model_module": "@jupyter-widgets/controls",
            "_model_module_version": "1.5.0",
            "_model_name": "TextModel",
            "_view_count": null,
            "_view_module": "@jupyter-widgets/controls",
            "_view_module_version": "1.5.0",
            "_view_name": "TextView",
            "continuous_update": true,
            "description": "Back Color:",
            "description_tooltip": null,
            "disabled": false,
            "layout": "IPY_MODEL_f827b55b45014c868ee051a75675c35e",
            "placeholder": "​",
            "style": "IPY_MODEL_fd1b25be41284ebba120dd6622eb43fc",
            "value": "white"
          }
        },
        "f827b55b45014c868ee051a75675c35e": {
          "model_module": "@jupyter-widgets/base",
          "model_name": "LayoutModel",
          "model_module_version": "1.2.0",
          "state": {
            "_model_module": "@jupyter-widgets/base",
            "_model_module_version": "1.2.0",
            "_model_name": "LayoutModel",
            "_view_count": null,
            "_view_module": "@jupyter-widgets/base",
            "_view_module_version": "1.2.0",
            "_view_name": "LayoutView",
            "align_content": null,
            "align_items": null,
            "align_self": null,
            "border": null,
            "bottom": null,
            "display": null,
            "flex": null,
            "flex_flow": null,
            "grid_area": null,
            "grid_auto_columns": null,
            "grid_auto_flow": null,
            "grid_auto_rows": null,
            "grid_column": null,
            "grid_gap": null,
            "grid_row": null,
            "grid_template_areas": null,
            "grid_template_columns": null,
            "grid_template_rows": null,
            "height": null,
            "justify_content": null,
            "justify_items": null,
            "left": null,
            "margin": null,
            "max_height": null,
            "max_width": null,
            "min_height": null,
            "min_width": null,
            "object_fit": null,
            "object_position": null,
            "order": null,
            "overflow": null,
            "overflow_x": null,
            "overflow_y": null,
            "padding": null,
            "right": null,
            "top": null,
            "visibility": null,
            "width": null
          }
        },
        "fd1b25be41284ebba120dd6622eb43fc": {
          "model_module": "@jupyter-widgets/controls",
          "model_name": "DescriptionStyleModel",
          "model_module_version": "1.5.0",
          "state": {
            "_model_module": "@jupyter-widgets/controls",
            "_model_module_version": "1.5.0",
            "_model_name": "DescriptionStyleModel",
            "_view_count": null,
            "_view_module": "@jupyter-widgets/base",
            "_view_module_version": "1.2.0",
            "_view_name": "StyleView",
            "description_width": ""
          }
        },
        "04ba22f9d2764765b69bd943cf0d3e23": {
          "model_module": "@jupyter-widgets/controls",
          "model_name": "IntTextModel",
          "model_module_version": "1.5.0",
          "state": {
            "_dom_classes": [],
            "_model_module": "@jupyter-widgets/controls",
            "_model_module_version": "1.5.0",
            "_model_name": "IntTextModel",
            "_view_count": null,
            "_view_module": "@jupyter-widgets/controls",
            "_view_module_version": "1.5.0",
            "_view_name": "IntTextView",
            "continuous_update": false,
            "description": "Box Size:",
            "description_tooltip": null,
            "disabled": false,
            "layout": "IPY_MODEL_f4ac18ebd1ee48e39dedbd2ecda088e9",
            "step": 1,
            "style": "IPY_MODEL_53a66cad8eab4c5daec55ad64ebe7458",
            "value": 10
          }
        },
        "f4ac18ebd1ee48e39dedbd2ecda088e9": {
          "model_module": "@jupyter-widgets/base",
          "model_name": "LayoutModel",
          "model_module_version": "1.2.0",
          "state": {
            "_model_module": "@jupyter-widgets/base",
            "_model_module_version": "1.2.0",
            "_model_name": "LayoutModel",
            "_view_count": null,
            "_view_module": "@jupyter-widgets/base",
            "_view_module_version": "1.2.0",
            "_view_name": "LayoutView",
            "align_content": null,
            "align_items": null,
            "align_self": null,
            "border": null,
            "bottom": null,
            "display": null,
            "flex": null,
            "flex_flow": null,
            "grid_area": null,
            "grid_auto_columns": null,
            "grid_auto_flow": null,
            "grid_auto_rows": null,
            "grid_column": null,
            "grid_gap": null,
            "grid_row": null,
            "grid_template_areas": null,
            "grid_template_columns": null,
            "grid_template_rows": null,
            "height": null,
            "justify_content": null,
            "justify_items": null,
            "left": null,
            "margin": null,
            "max_height": null,
            "max_width": null,
            "min_height": null,
            "min_width": null,
            "object_fit": null,
            "object_position": null,
            "order": null,
            "overflow": null,
            "overflow_x": null,
            "overflow_y": null,
            "padding": null,
            "right": null,
            "top": null,
            "visibility": null,
            "width": null
          }
        },
        "53a66cad8eab4c5daec55ad64ebe7458": {
          "model_module": "@jupyter-widgets/controls",
          "model_name": "DescriptionStyleModel",
          "model_module_version": "1.5.0",
          "state": {
            "_model_module": "@jupyter-widgets/controls",
            "_model_module_version": "1.5.0",
            "_model_name": "DescriptionStyleModel",
            "_view_count": null,
            "_view_module": "@jupyter-widgets/base",
            "_view_module_version": "1.2.0",
            "_view_name": "StyleView",
            "description_width": ""
          }
        },
        "7db0e2a3f8cc491684a5731a5d701be0": {
          "model_module": "@jupyter-widgets/controls",
          "model_name": "IntTextModel",
          "model_module_version": "1.5.0",
          "state": {
            "_dom_classes": [],
            "_model_module": "@jupyter-widgets/controls",
            "_model_module_version": "1.5.0",
            "_model_name": "IntTextModel",
            "_view_count": null,
            "_view_module": "@jupyter-widgets/controls",
            "_view_module_version": "1.5.0",
            "_view_name": "IntTextView",
            "continuous_update": false,
            "description": "Border:",
            "description_tooltip": null,
            "disabled": false,
            "layout": "IPY_MODEL_b4c9bc24b0f54e2dae1a939088d8aeee",
            "step": 1,
            "style": "IPY_MODEL_543d6747c1f94f22ae019577597b2e6b",
            "value": 4
          }
        },
        "b4c9bc24b0f54e2dae1a939088d8aeee": {
          "model_module": "@jupyter-widgets/base",
          "model_name": "LayoutModel",
          "model_module_version": "1.2.0",
          "state": {
            "_model_module": "@jupyter-widgets/base",
            "_model_module_version": "1.2.0",
            "_model_name": "LayoutModel",
            "_view_count": null,
            "_view_module": "@jupyter-widgets/base",
            "_view_module_version": "1.2.0",
            "_view_name": "LayoutView",
            "align_content": null,
            "align_items": null,
            "align_self": null,
            "border": null,
            "bottom": null,
            "display": null,
            "flex": null,
            "flex_flow": null,
            "grid_area": null,
            "grid_auto_columns": null,
            "grid_auto_flow": null,
            "grid_auto_rows": null,
            "grid_column": null,
            "grid_gap": null,
            "grid_row": null,
            "grid_template_areas": null,
            "grid_template_columns": null,
            "grid_template_rows": null,
            "height": null,
            "justify_content": null,
            "justify_items": null,
            "left": null,
            "margin": null,
            "max_height": null,
            "max_width": null,
            "min_height": null,
            "min_width": null,
            "object_fit": null,
            "object_position": null,
            "order": null,
            "overflow": null,
            "overflow_x": null,
            "overflow_y": null,
            "padding": null,
            "right": null,
            "top": null,
            "visibility": null,
            "width": null
          }
        },
        "543d6747c1f94f22ae019577597b2e6b": {
          "model_module": "@jupyter-widgets/controls",
          "model_name": "DescriptionStyleModel",
          "model_module_version": "1.5.0",
          "state": {
            "_model_module": "@jupyter-widgets/controls",
            "_model_module_version": "1.5.0",
            "_model_name": "DescriptionStyleModel",
            "_view_count": null,
            "_view_module": "@jupyter-widgets/base",
            "_view_module_version": "1.2.0",
            "_view_name": "StyleView",
            "description_width": ""
          }
        },
        "6db068a473564271990fe8d5aebcc410": {
          "model_module": "@jupyter-widgets/controls",
          "model_name": "DropdownModel",
          "model_module_version": "1.5.0",
          "state": {
            "_dom_classes": [],
            "_model_module": "@jupyter-widgets/controls",
            "_model_module_version": "1.5.0",
            "_model_name": "DropdownModel",
            "_options_labels": [
              "L (7%)",
              "M (15%)",
              "Q (25%)",
              "H (30%)"
            ],
            "_view_count": null,
            "_view_module": "@jupyter-widgets/controls",
            "_view_module_version": "1.5.0",
            "_view_name": "DropdownView",
            "description": "Error Correction:",
            "description_tooltip": null,
            "disabled": false,
            "index": 3,
            "layout": "IPY_MODEL_7e911f7c775c4c9da60acb7d8bb48c00",
            "style": "IPY_MODEL_bb1129fd90cf4474a39eb53140cc1947"
          }
        },
        "7e911f7c775c4c9da60acb7d8bb48c00": {
          "model_module": "@jupyter-widgets/base",
          "model_name": "LayoutModel",
          "model_module_version": "1.2.0",
          "state": {
            "_model_module": "@jupyter-widgets/base",
            "_model_module_version": "1.2.0",
            "_model_name": "LayoutModel",
            "_view_count": null,
            "_view_module": "@jupyter-widgets/base",
            "_view_module_version": "1.2.0",
            "_view_name": "LayoutView",
            "align_content": null,
            "align_items": null,
            "align_self": null,
            "border": null,
            "bottom": null,
            "display": null,
            "flex": null,
            "flex_flow": null,
            "grid_area": null,
            "grid_auto_columns": null,
            "grid_auto_flow": null,
            "grid_auto_rows": null,
            "grid_column": null,
            "grid_gap": null,
            "grid_row": null,
            "grid_template_areas": null,
            "grid_template_columns": null,
            "grid_template_rows": null,
            "height": null,
            "justify_content": null,
            "justify_items": null,
            "left": null,
            "margin": null,
            "max_height": null,
            "max_width": null,
            "min_height": null,
            "min_width": null,
            "object_fit": null,
            "object_position": null,
            "order": null,
            "overflow": null,
            "overflow_x": null,
            "overflow_y": null,
            "padding": null,
            "right": null,
            "top": null,
            "visibility": null,
            "width": null
          }
        },
        "bb1129fd90cf4474a39eb53140cc1947": {
          "model_module": "@jupyter-widgets/controls",
          "model_name": "DescriptionStyleModel",
          "model_module_version": "1.5.0",
          "state": {
            "_model_module": "@jupyter-widgets/controls",
            "_model_module_version": "1.5.0",
            "_model_name": "DescriptionStyleModel",
            "_view_count": null,
            "_view_module": "@jupyter-widgets/base",
            "_view_module_version": "1.2.0",
            "_view_name": "StyleView",
            "description_width": ""
          }
        },
        "89755c5e5b5a48189841b3fe5bb2960e": {
          "model_module": "@jupyter-widgets/controls",
          "model_name": "ButtonModel",
          "model_module_version": "1.5.0",
          "state": {
            "_dom_classes": [],
            "_model_module": "@jupyter-widgets/controls",
            "_model_module_version": "1.5.0",
            "_model_name": "ButtonModel",
            "_view_count": null,
            "_view_module": "@jupyter-widgets/controls",
            "_view_module_version": "1.5.0",
            "_view_name": "ButtonView",
            "button_style": "",
            "description": "Generate QR Code",
            "disabled": false,
            "icon": "",
            "layout": "IPY_MODEL_b639110a81344d879192263314b53b1f",
            "style": "IPY_MODEL_81f14ec122c744a6868ed87f33f37546",
            "tooltip": ""
          }
        },
        "b639110a81344d879192263314b53b1f": {
          "model_module": "@jupyter-widgets/base",
          "model_name": "LayoutModel",
          "model_module_version": "1.2.0",
          "state": {
            "_model_module": "@jupyter-widgets/base",
            "_model_module_version": "1.2.0",
            "_model_name": "LayoutModel",
            "_view_count": null,
            "_view_module": "@jupyter-widgets/base",
            "_view_module_version": "1.2.0",
            "_view_name": "LayoutView",
            "align_content": null,
            "align_items": null,
            "align_self": null,
            "border": null,
            "bottom": null,
            "display": null,
            "flex": null,
            "flex_flow": null,
            "grid_area": null,
            "grid_auto_columns": null,
            "grid_auto_flow": null,
            "grid_auto_rows": null,
            "grid_column": null,
            "grid_gap": null,
            "grid_row": null,
            "grid_template_areas": null,
            "grid_template_columns": null,
            "grid_template_rows": null,
            "height": null,
            "justify_content": null,
            "justify_items": null,
            "left": null,
            "margin": null,
            "max_height": null,
            "max_width": null,
            "min_height": null,
            "min_width": null,
            "object_fit": null,
            "object_position": null,
            "order": null,
            "overflow": null,
            "overflow_x": null,
            "overflow_y": null,
            "padding": null,
            "right": null,
            "top": null,
            "visibility": null,
            "width": null
          }
        },
        "81f14ec122c744a6868ed87f33f37546": {
          "model_module": "@jupyter-widgets/controls",
          "model_name": "ButtonStyleModel",
          "model_module_version": "1.5.0",
          "state": {
            "_model_module": "@jupyter-widgets/controls",
            "_model_module_version": "1.5.0",
            "_model_name": "ButtonStyleModel",
            "_view_count": null,
            "_view_module": "@jupyter-widgets/base",
            "_view_module_version": "1.2.0",
            "_view_name": "StyleView",
            "button_color": null,
            "font_weight": ""
          }
        },
        "d7391b644d6947509216b6abd676409e": {
          "model_module": "@jupyter-widgets/output",
          "model_name": "OutputModel",
          "model_module_version": "1.0.0",
          "state": {
            "_dom_classes": [],
            "_model_module": "@jupyter-widgets/output",
            "_model_module_version": "1.0.0",
            "_model_name": "OutputModel",
            "_view_count": null,
            "_view_module": "@jupyter-widgets/output",
            "_view_module_version": "1.0.0",
            "_view_name": "OutputView",
            "layout": "IPY_MODEL_d4469e50ee8d4f968146d7bbeb9ecfaa",
            "msg_id": "",
            "outputs": []
          }
        },
        "d4469e50ee8d4f968146d7bbeb9ecfaa": {
          "model_module": "@jupyter-widgets/base",
          "model_name": "LayoutModel",
          "model_module_version": "1.2.0",
          "state": {
            "_model_module": "@jupyter-widgets/base",
            "_model_module_version": "1.2.0",
            "_model_name": "LayoutModel",
            "_view_count": null,
            "_view_module": "@jupyter-widgets/base",
            "_view_module_version": "1.2.0",
            "_view_name": "LayoutView",
            "align_content": null,
            "align_items": null,
            "align_self": null,
            "border": null,
            "bottom": null,
            "display": null,
            "flex": null,
            "flex_flow": null,
            "grid_area": null,
            "grid_auto_columns": null,
            "grid_auto_flow": null,
            "grid_auto_rows": null,
            "grid_column": null,
            "grid_gap": null,
            "grid_row": null,
            "grid_template_areas": null,
            "grid_template_columns": null,
            "grid_template_rows": null,
            "height": null,
            "justify_content": null,
            "justify_items": null,
            "left": null,
            "margin": null,
            "max_height": null,
            "max_width": null,
            "min_height": null,
            "min_width": null,
            "object_fit": null,
            "object_position": null,
            "order": null,
            "overflow": null,
            "overflow_x": null,
            "overflow_y": null,
            "padding": null,
            "right": null,
            "top": null,
            "visibility": null,
            "width": null
          }
        },
        "b8a64dc3f24348bbb19f00750fac7224": {
          "model_module": "@jupyter-widgets/controls",
          "model_name": "TextModel",
          "model_module_version": "1.5.0",
          "state": {
            "_dom_classes": [],
            "_model_module": "@jupyter-widgets/controls",
            "_model_module_version": "1.5.0",
            "_model_name": "TextModel",
            "_view_count": null,
            "_view_module": "@jupyter-widgets/controls",
            "_view_module_version": "1.5.0",
            "_view_name": "TextView",
            "continuous_update": true,
            "description": "Filename:",
            "description_tooltip": null,
            "disabled": false,
            "layout": "IPY_MODEL_386be73d70d24a8a9a1251e9120488d7",
            "placeholder": "​",
            "style": "IPY_MODEL_0bfb5de144da42ad955ed77cac766f90",
            "value": "my_qrcode.png"
          }
        },
        "386be73d70d24a8a9a1251e9120488d7": {
          "model_module": "@jupyter-widgets/base",
          "model_name": "LayoutModel",
          "model_module_version": "1.2.0",
          "state": {
            "_model_module": "@jupyter-widgets/base",
            "_model_module_version": "1.2.0",
            "_model_name": "LayoutModel",
            "_view_count": null,
            "_view_module": "@jupyter-widgets/base",
            "_view_module_version": "1.2.0",
            "_view_name": "LayoutView",
            "align_content": null,
            "align_items": null,
            "align_self": null,
            "border": null,
            "bottom": null,
            "display": null,
            "flex": null,
            "flex_flow": null,
            "grid_area": null,
            "grid_auto_columns": null,
            "grid_auto_flow": null,
            "grid_auto_rows": null,
            "grid_column": null,
            "grid_gap": null,
            "grid_row": null,
            "grid_template_areas": null,
            "grid_template_columns": null,
            "grid_template_rows": null,
            "height": null,
            "justify_content": null,
            "justify_items": null,
            "left": null,
            "margin": null,
            "max_height": null,
            "max_width": null,
            "min_height": null,
            "min_width": null,
            "object_fit": null,
            "object_position": null,
            "order": null,
            "overflow": null,
            "overflow_x": null,
            "overflow_y": null,
            "padding": null,
            "right": null,
            "top": null,
            "visibility": null,
            "width": null
          }
        },
        "0bfb5de144da42ad955ed77cac766f90": {
          "model_module": "@jupyter-widgets/controls",
          "model_name": "DescriptionStyleModel",
          "model_module_version": "1.5.0",
          "state": {
            "_model_module": "@jupyter-widgets/controls",
            "_model_module_version": "1.5.0",
            "_model_name": "DescriptionStyleModel",
            "_view_count": null,
            "_view_module": "@jupyter-widgets/base",
            "_view_module_version": "1.2.0",
            "_view_name": "StyleView",
            "description_width": ""
          }
        },
        "97f321b845d740068951fc1cdcf71e50": {
          "model_module": "@jupyter-widgets/controls",
          "model_name": "ButtonModel",
          "model_module_version": "1.5.0",
          "state": {
            "_dom_classes": [],
            "_model_module": "@jupyter-widgets/controls",
            "_model_module_version": "1.5.0",
            "_model_name": "ButtonModel",
            "_view_count": null,
            "_view_module": "@jupyter-widgets/controls",
            "_view_module_version": "1.5.0",
            "_view_name": "ButtonView",
            "button_style": "",
            "description": "Save QR Code",
            "disabled": false,
            "icon": "",
            "layout": "IPY_MODEL_79c54502f7364d1d842db23ff11eda80",
            "style": "IPY_MODEL_5ebd15e05843495ca1c0d87ade311040",
            "tooltip": ""
          }
        },
        "79c54502f7364d1d842db23ff11eda80": {
          "model_module": "@jupyter-widgets/base",
          "model_name": "LayoutModel",
          "model_module_version": "1.2.0",
          "state": {
            "_model_module": "@jupyter-widgets/base",
            "_model_module_version": "1.2.0",
            "_model_name": "LayoutModel",
            "_view_count": null,
            "_view_module": "@jupyter-widgets/base",
            "_view_module_version": "1.2.0",
            "_view_name": "LayoutView",
            "align_content": null,
            "align_items": null,
            "align_self": null,
            "border": null,
            "bottom": null,
            "display": null,
            "flex": null,
            "flex_flow": null,
            "grid_area": null,
            "grid_auto_columns": null,
            "grid_auto_flow": null,
            "grid_auto_rows": null,
            "grid_column": null,
            "grid_gap": null,
            "grid_row": null,
            "grid_template_areas": null,
            "grid_template_columns": null,
            "grid_template_rows": null,
            "height": null,
            "justify_content": null,
            "justify_items": null,
            "left": null,
            "margin": null,
            "max_height": null,
            "max_width": null,
            "min_height": null,
            "min_width": null,
            "object_fit": null,
            "object_position": null,
            "order": null,
            "overflow": null,
            "overflow_x": null,
            "overflow_y": null,
            "padding": null,
            "right": null,
            "top": null,
            "visibility": null,
            "width": null
          }
        },
        "5ebd15e05843495ca1c0d87ade311040": {
          "model_module": "@jupyter-widgets/controls",
          "model_name": "ButtonStyleModel",
          "model_module_version": "1.5.0",
          "state": {
            "_model_module": "@jupyter-widgets/controls",
            "_model_module_version": "1.5.0",
            "_model_name": "ButtonStyleModel",
            "_view_count": null,
            "_view_module": "@jupyter-widgets/base",
            "_view_module_version": "1.2.0",
            "_view_name": "StyleView",
            "button_color": null,
            "font_weight": ""
          }
        }
      }
    }
  },
  "cells": [
    {
      "cell_type": "markdown",
      "metadata": {
        "id": "view-in-github",
        "colab_type": "text"
      },
      "source": [
        "<a href=\"https://colab.research.google.com/github/tanush-47/QR-generator/blob/main/QRcode.ipynb\" target=\"_parent\"><img src=\"https://colab.research.google.com/assets/colab-badge.svg\" alt=\"Open In Colab\"/></a>"
      ]
    },
    {
      "cell_type": "code",
      "execution_count": 20,
      "metadata": {
        "id": "mrlLoGQf8r5Z"
      },
      "outputs": [],
      "source": []
    },
    {
      "cell_type": "markdown",
      "metadata": {
        "id": "2bab737c"
      },
      "source": [
        "# Task\n",
        "Create a project for generating customizable QR codes with a user interface and the ability to save the generated QR code as an image file."
      ]
    },
    {
      "cell_type": "markdown",
      "metadata": {
        "id": "cd6f7a87"
      },
      "source": [
        "## Install necessary libraries\n",
        "\n",
        "### Subtask:\n",
        "Install libraries like `qrcode` and `Pillow` that are required for generating QR codes.\n"
      ]
    },
    {
      "cell_type": "markdown",
      "metadata": {
        "id": "45ee727f"
      },
      "source": [
        "**Reasoning**:\n",
        "Install the required libraries `qrcode` and `Pillow` using pip.\n",
        "\n"
      ]
    },
    {
      "cell_type": "code",
      "metadata": {
        "colab": {
          "base_uri": "https://localhost:8080/"
        },
        "id": "e97acd4c",
        "outputId": "f7fceb4f-8119-4fc0-a4c3-eb650f1a7bb7"
      },
      "source": [
        "%pip install qrcode Pillow"
      ],
      "execution_count": 21,
      "outputs": [
        {
          "output_type": "stream",
          "name": "stdout",
          "text": [
            "Requirement already satisfied: qrcode in /usr/local/lib/python3.11/dist-packages (8.2)\n",
            "Requirement already satisfied: Pillow in /usr/local/lib/python3.11/dist-packages (11.2.1)\n"
          ]
        }
      ]
    },
    {
      "cell_type": "markdown",
      "metadata": {
        "id": "422965a0"
      },
      "source": [
        "## Generate a basic qr code\n",
        "\n",
        "### Subtask:\n",
        "Write code to generate a simple QR code for a given URL or text string.\n"
      ]
    },
    {
      "cell_type": "markdown",
      "metadata": {
        "id": "c20995ba"
      },
      "source": [
        "**Reasoning**:\n",
        "The subtask is to generate a simple QR code. This involves importing the qrcode library, defining the data, creating the QR code image object, and saving it to a file. These steps can be combined into a single code block.\n",
        "\n"
      ]
    },
    {
      "cell_type": "code",
      "metadata": {
        "id": "4af617bd"
      },
      "source": [
        "import qrcode\n",
        "\n",
        "# Define the data for the QR code\n",
        "data = \"https://www.example.com\"\n",
        "\n",
        "# Create QR code image object\n",
        "img = qrcode.make(data)\n",
        "\n",
        "# Save the image to a file\n",
        "img.save(\"basic_qr.png\")"
      ],
      "execution_count": 22,
      "outputs": []
    },
    {
      "cell_type": "markdown",
      "metadata": {
        "id": "da1db319"
      },
      "source": [
        "## Add customization options\n",
        "\n",
        "### Subtask:\n",
        "Modify the code to allow customization of QR code features like size, color, and error correction level.\n"
      ]
    },
    {
      "cell_type": "markdown",
      "metadata": {
        "id": "25b5b064"
      },
      "source": [
        "**Reasoning**:\n",
        "Import the necessary library and define the data to be encoded.\n",
        "\n"
      ]
    },
    {
      "cell_type": "code",
      "metadata": {
        "id": "19962441"
      },
      "source": [
        "# Define the data to be encoded in the QR code.\n",
        "data = \"This is a customizable QR code.\""
      ],
      "execution_count": 23,
      "outputs": []
    },
    {
      "cell_type": "markdown",
      "metadata": {
        "id": "559b1ab5"
      },
      "source": [
        "**Reasoning**:\n",
        "Create a QRCode object with custom parameters and add the data to it.\n",
        "\n"
      ]
    },
    {
      "cell_type": "code",
      "metadata": {
        "id": "de8d7866"
      },
      "source": [
        "# Create a QRCode object, specifying parameters for version (size), error correction level, box size, and border.\n",
        "# version: controls the size of the QR Code. None means auto-detect size. Integer from 1 to 40.\n",
        "# error_correction: controls the error correction level.\n",
        "# qrcode.constants.ERROR_CORRECT_L: About 7% or fewer errors can be corrected.\n",
        "# qrcode.constants.ERROR_CORRECT_M: About 15% or fewer errors can be corrected.\n",
        "# qrcode.constants.ERROR_CORRECT_Q: About 25% or fewer errors can be corrected.\n",
        "# qrcode.constants.ERROR_CORRECT_H: About 30% or fewer errors can be corrected.\n",
        "# box_size: controls how many pixels each \"box\" of the QR code is.\n",
        "# border: controls how many boxes thick the border should be (the default is 4, which is the minimum according to the spec).\n",
        "qr = qrcode.QRCode(\n",
        "    version=1,\n",
        "    error_correction=qrcode.constants.ERROR_CORRECT_H,\n",
        "    box_size=10,\n",
        "    border=4,\n",
        ")\n",
        "\n",
        "# Add the data to the QRCode object.\n",
        "qr.add_data(data)\n",
        "qr.make(fit=True)"
      ],
      "execution_count": 24,
      "outputs": []
    },
    {
      "cell_type": "markdown",
      "metadata": {
        "id": "cfdf8a7a"
      },
      "source": [
        "**Reasoning**:\n",
        "Create the QR code image with specified colors and save it to a file.\n",
        "\n"
      ]
    },
    {
      "cell_type": "code",
      "metadata": {
        "id": "3f78d05a"
      },
      "source": [
        "# Make the QR code image, specifying fill color and back color.\n",
        "img = qr.make_image(fill_color=\"blue\", back_color=\"white\")\n",
        "\n",
        "# Save the generated image to a file.\n",
        "img.save(\"customizable_qr.png\")"
      ],
      "execution_count": 25,
      "outputs": []
    },
    {
      "cell_type": "markdown",
      "metadata": {
        "id": "c95231a5"
      },
      "source": [
        "## Create a user interface\n",
        "\n",
        "### Subtask:\n",
        "Develop a simple user interface (e.g., using `ipywidgets`) to allow users to input data and customize QR code generation.\n"
      ]
    },
    {
      "cell_type": "markdown",
      "metadata": {
        "id": "3321aec8"
      },
      "source": [
        "**Reasoning**:\n",
        "Import necessary libraries for creating the user interface and displaying the QR code.\n",
        "\n"
      ]
    },
    {
      "cell_type": "code",
      "metadata": {
        "id": "365c157b"
      },
      "source": [
        "import ipywidgets as widgets\n",
        "from IPython.display import display, clear_output\n",
        "import qrcode\n",
        "import qrcode.constants\n",
        "from PIL import Image\n",
        "import io"
      ],
      "execution_count": 26,
      "outputs": []
    },
    {
      "cell_type": "markdown",
      "metadata": {
        "id": "c3575608"
      },
      "source": [
        "**Reasoning**:\n",
        "Create the input widgets for customizing the QR code generation.\n",
        "\n"
      ]
    },
    {
      "cell_type": "code",
      "metadata": {
        "id": "5ecf8344"
      },
      "source": [
        "# Create input widgets\n",
        "data_input = widgets.Textarea(description=\"Data:\", value=\"Enter text or URL here\")\n",
        "fill_color_input = widgets.Text(description=\"Fill Color:\", value=\"black\")\n",
        "back_color_input = widgets.Text(description=\"Back Color:\", value=\"white\")\n",
        "box_size_input = widgets.IntText(description=\"Box Size:\", value=10, min=1)\n",
        "border_input = widgets.IntText(description=\"Border:\", value=4, min=0)\n",
        "\n",
        "# Create a dropdown for error correction level\n",
        "error_correction_options = {\n",
        "    'L (7%)': qrcode.constants.ERROR_CORRECT_L,\n",
        "    'M (15%)': qrcode.constants.ERROR_CORRECT_M,\n",
        "    'Q (25%)': qrcode.constants.ERROR_CORRECT_Q,\n",
        "    'H (30%)': qrcode.constants.ERROR_CORRECT_H,\n",
        "}\n",
        "error_correction_dropdown = widgets.Dropdown(\n",
        "    options=error_correction_options,\n",
        "    value=qrcode.constants.ERROR_CORRECT_H,\n",
        "    description='Error Correction:'\n",
        ")\n",
        "\n",
        "# Create a button to generate the QR code\n",
        "generate_button = widgets.Button(description=\"Generate QR Code\")\n",
        "\n",
        "# Output widget to display the QR code image\n",
        "output_widget = widgets.Output()"
      ],
      "execution_count": 27,
      "outputs": []
    },
    {
      "cell_type": "markdown",
      "metadata": {
        "id": "e85f9b97"
      },
      "source": [
        "**Reasoning**:\n",
        "Define the function that generates and displays the QR code based on the widget values and link it to the button click event.\n",
        "\n"
      ]
    },
    {
      "cell_type": "code",
      "metadata": {
        "colab": {
          "base_uri": "https://localhost:8080/",
          "height": 244,
          "referenced_widgets": [
            "60c513fb44d843db8b13a34c2d8d4c3c",
            "557f5ef7601441a897b699cf169dcc74",
            "941c9e879cdd4c7a8663edded4de331a",
            "bb8a66d176bf4d3b86f5c851e7268aae",
            "1e40df7f1f644aaf8f707749480079f3",
            "1f40ee7c2ba244348be9e16008c137bc",
            "96917d0543c747d5ad8238a530bb6e79",
            "f827b55b45014c868ee051a75675c35e",
            "fd1b25be41284ebba120dd6622eb43fc",
            "04ba22f9d2764765b69bd943cf0d3e23",
            "f4ac18ebd1ee48e39dedbd2ecda088e9",
            "53a66cad8eab4c5daec55ad64ebe7458",
            "7db0e2a3f8cc491684a5731a5d701be0",
            "b4c9bc24b0f54e2dae1a939088d8aeee",
            "543d6747c1f94f22ae019577597b2e6b",
            "6db068a473564271990fe8d5aebcc410",
            "7e911f7c775c4c9da60acb7d8bb48c00",
            "bb1129fd90cf4474a39eb53140cc1947",
            "89755c5e5b5a48189841b3fe5bb2960e",
            "b639110a81344d879192263314b53b1f",
            "81f14ec122c744a6868ed87f33f37546",
            "d7391b644d6947509216b6abd676409e",
            "d4469e50ee8d4f968146d7bbeb9ecfaa"
          ]
        },
        "id": "59b3ded3",
        "outputId": "7d84d604-10bf-48e2-9aff-d7468d832818"
      },
      "source": [
        "def generate_and_display_qr(b):\n",
        "    with output_widget:\n",
        "        clear_output() # Clear previous output\n",
        "\n",
        "        data = data_input.value\n",
        "        fill_color = fill_color_input.value\n",
        "        back_color = back_color_input.value\n",
        "        box_size = box_size_input.value\n",
        "        border = border_input.value\n",
        "        error_correction = error_correction_dropdown.value\n",
        "\n",
        "        try:\n",
        "            qr = qrcode.QRCode(\n",
        "                version=None, # Auto-detect version\n",
        "                error_correction=error_correction,\n",
        "                box_size=box_size,\n",
        "                border=border,\n",
        "            )\n",
        "            qr.add_data(data)\n",
        "            qr.make(fit=True)\n",
        "\n",
        "            img = qr.make_image(fill_color=fill_color, back_color=back_color)\n",
        "\n",
        "            # Display the image\n",
        "            img_byte_arr = io.BytesIO()\n",
        "            img.save(img_byte_arr, format='PNG')\n",
        "            img_byte_arr = img_byte_arr.getvalue()\n",
        "            display(Image.open(io.BytesIO(img_byte_arr)))\n",
        "\n",
        "        except Exception as e:\n",
        "            print(f\"An error occurred: {e}\")\n",
        "\n",
        "# Link the button to the function\n",
        "generate_button.on_click(generate_and_display_qr)\n",
        "\n",
        "# Arrange and display the widgets\n",
        "display(data_input, fill_color_input, back_color_input, box_size_input, border_input, error_correction_dropdown, generate_button, output_widget)"
      ],
      "execution_count": 28,
      "outputs": [
        {
          "output_type": "display_data",
          "data": {
            "text/plain": [
              "Textarea(value='Enter text or URL here', description='Data:')"
            ],
            "application/vnd.jupyter.widget-view+json": {
              "version_major": 2,
              "version_minor": 0,
              "model_id": "60c513fb44d843db8b13a34c2d8d4c3c"
            }
          },
          "metadata": {}
        },
        {
          "output_type": "display_data",
          "data": {
            "text/plain": [
              "Text(value='black', description='Fill Color:')"
            ],
            "application/vnd.jupyter.widget-view+json": {
              "version_major": 2,
              "version_minor": 0,
              "model_id": "bb8a66d176bf4d3b86f5c851e7268aae"
            }
          },
          "metadata": {}
        },
        {
          "output_type": "display_data",
          "data": {
            "text/plain": [
              "Text(value='white', description='Back Color:')"
            ],
            "application/vnd.jupyter.widget-view+json": {
              "version_major": 2,
              "version_minor": 0,
              "model_id": "96917d0543c747d5ad8238a530bb6e79"
            }
          },
          "metadata": {}
        },
        {
          "output_type": "display_data",
          "data": {
            "text/plain": [
              "IntText(value=10, description='Box Size:')"
            ],
            "application/vnd.jupyter.widget-view+json": {
              "version_major": 2,
              "version_minor": 0,
              "model_id": "04ba22f9d2764765b69bd943cf0d3e23"
            }
          },
          "metadata": {}
        },
        {
          "output_type": "display_data",
          "data": {
            "text/plain": [
              "IntText(value=4, description='Border:')"
            ],
            "application/vnd.jupyter.widget-view+json": {
              "version_major": 2,
              "version_minor": 0,
              "model_id": "7db0e2a3f8cc491684a5731a5d701be0"
            }
          },
          "metadata": {}
        },
        {
          "output_type": "display_data",
          "data": {
            "text/plain": [
              "Dropdown(description='Error Correction:', index=3, options={'L (7%)': 1, 'M (15%)': 0, 'Q (25%)': 3, 'H (30%)'…"
            ],
            "application/vnd.jupyter.widget-view+json": {
              "version_major": 2,
              "version_minor": 0,
              "model_id": "6db068a473564271990fe8d5aebcc410"
            }
          },
          "metadata": {}
        },
        {
          "output_type": "display_data",
          "data": {
            "text/plain": [
              "Button(description='Generate QR Code', style=ButtonStyle())"
            ],
            "application/vnd.jupyter.widget-view+json": {
              "version_major": 2,
              "version_minor": 0,
              "model_id": "89755c5e5b5a48189841b3fe5bb2960e"
            }
          },
          "metadata": {}
        },
        {
          "output_type": "display_data",
          "data": {
            "text/plain": [
              "Output()"
            ],
            "application/vnd.jupyter.widget-view+json": {
              "version_major": 2,
              "version_minor": 0,
              "model_id": "d7391b644d6947509216b6abd676409e"
            }
          },
          "metadata": {}
        }
      ]
    },
    {
      "cell_type": "markdown",
      "metadata": {
        "id": "f0b9fb57"
      },
      "source": [
        "## Save the qr code\n",
        "\n",
        "### Subtask:\n",
        "Add functionality to save the generated QR code as an image file (e.g., PNG).\n"
      ]
    },
    {
      "cell_type": "markdown",
      "metadata": {
        "id": "a06ddc0c"
      },
      "source": [
        "**Reasoning**:\n",
        "Add the filename input and save button widgets to the user interface definition.\n",
        "\n"
      ]
    },
    {
      "cell_type": "code",
      "metadata": {
        "colab": {
          "base_uri": "https://localhost:8080/",
          "height": 306,
          "referenced_widgets": [
            "60c513fb44d843db8b13a34c2d8d4c3c",
            "557f5ef7601441a897b699cf169dcc74",
            "941c9e879cdd4c7a8663edded4de331a",
            "bb8a66d176bf4d3b86f5c851e7268aae",
            "1e40df7f1f644aaf8f707749480079f3",
            "1f40ee7c2ba244348be9e16008c137bc",
            "96917d0543c747d5ad8238a530bb6e79",
            "f827b55b45014c868ee051a75675c35e",
            "fd1b25be41284ebba120dd6622eb43fc",
            "04ba22f9d2764765b69bd943cf0d3e23",
            "f4ac18ebd1ee48e39dedbd2ecda088e9",
            "53a66cad8eab4c5daec55ad64ebe7458",
            "7db0e2a3f8cc491684a5731a5d701be0",
            "b4c9bc24b0f54e2dae1a939088d8aeee",
            "543d6747c1f94f22ae019577597b2e6b",
            "6db068a473564271990fe8d5aebcc410",
            "7e911f7c775c4c9da60acb7d8bb48c00",
            "bb1129fd90cf4474a39eb53140cc1947",
            "b8a64dc3f24348bbb19f00750fac7224",
            "386be73d70d24a8a9a1251e9120488d7",
            "0bfb5de144da42ad955ed77cac766f90",
            "89755c5e5b5a48189841b3fe5bb2960e",
            "b639110a81344d879192263314b53b1f",
            "81f14ec122c744a6868ed87f33f37546",
            "97f321b845d740068951fc1cdcf71e50",
            "79c54502f7364d1d842db23ff11eda80",
            "5ebd15e05843495ca1c0d87ade311040",
            "d7391b644d6947509216b6abd676409e",
            "d4469e50ee8d4f968146d7bbeb9ecfaa"
          ]
        },
        "id": "b2b599bb",
        "outputId": "c0c44e71-a0b4-4d42-d520-544dac9bd276"
      },
      "source": [
        "# Add new widgets for saving\n",
        "filename_input = widgets.Text(description=\"Filename:\", value=\"my_qrcode.png\")\n",
        "save_button = widgets.Button(description=\"Save QR Code\")\n",
        "\n",
        "# Arrange and display the widgets, including the new ones\n",
        "display(data_input, fill_color_input, back_color_input, box_size_input, border_input, error_correction_dropdown, filename_input, generate_button, save_button, output_widget)\n",
        "\n",
        "# Global variable to store the generated image\n",
        "generated_image = None"
      ],
      "execution_count": 29,
      "outputs": [
        {
          "output_type": "display_data",
          "data": {
            "text/plain": [
              "Textarea(value='Enter text or URL here', description='Data:')"
            ],
            "application/vnd.jupyter.widget-view+json": {
              "version_major": 2,
              "version_minor": 0,
              "model_id": "60c513fb44d843db8b13a34c2d8d4c3c"
            }
          },
          "metadata": {}
        },
        {
          "output_type": "display_data",
          "data": {
            "text/plain": [
              "Text(value='black', description='Fill Color:')"
            ],
            "application/vnd.jupyter.widget-view+json": {
              "version_major": 2,
              "version_minor": 0,
              "model_id": "bb8a66d176bf4d3b86f5c851e7268aae"
            }
          },
          "metadata": {}
        },
        {
          "output_type": "display_data",
          "data": {
            "text/plain": [
              "Text(value='white', description='Back Color:')"
            ],
            "application/vnd.jupyter.widget-view+json": {
              "version_major": 2,
              "version_minor": 0,
              "model_id": "96917d0543c747d5ad8238a530bb6e79"
            }
          },
          "metadata": {}
        },
        {
          "output_type": "display_data",
          "data": {
            "text/plain": [
              "IntText(value=10, description='Box Size:')"
            ],
            "application/vnd.jupyter.widget-view+json": {
              "version_major": 2,
              "version_minor": 0,
              "model_id": "04ba22f9d2764765b69bd943cf0d3e23"
            }
          },
          "metadata": {}
        },
        {
          "output_type": "display_data",
          "data": {
            "text/plain": [
              "IntText(value=4, description='Border:')"
            ],
            "application/vnd.jupyter.widget-view+json": {
              "version_major": 2,
              "version_minor": 0,
              "model_id": "7db0e2a3f8cc491684a5731a5d701be0"
            }
          },
          "metadata": {}
        },
        {
          "output_type": "display_data",
          "data": {
            "text/plain": [
              "Dropdown(description='Error Correction:', index=3, options={'L (7%)': 1, 'M (15%)': 0, 'Q (25%)': 3, 'H (30%)'…"
            ],
            "application/vnd.jupyter.widget-view+json": {
              "version_major": 2,
              "version_minor": 0,
              "model_id": "6db068a473564271990fe8d5aebcc410"
            }
          },
          "metadata": {}
        },
        {
          "output_type": "display_data",
          "data": {
            "text/plain": [
              "Text(value='my_qrcode.png', description='Filename:')"
            ],
            "application/vnd.jupyter.widget-view+json": {
              "version_major": 2,
              "version_minor": 0,
              "model_id": "b8a64dc3f24348bbb19f00750fac7224"
            }
          },
          "metadata": {}
        },
        {
          "output_type": "display_data",
          "data": {
            "text/plain": [
              "Button(description='Generate QR Code', style=ButtonStyle())"
            ],
            "application/vnd.jupyter.widget-view+json": {
              "version_major": 2,
              "version_minor": 0,
              "model_id": "89755c5e5b5a48189841b3fe5bb2960e"
            }
          },
          "metadata": {}
        },
        {
          "output_type": "display_data",
          "data": {
            "text/plain": [
              "Button(description='Save QR Code', style=ButtonStyle())"
            ],
            "application/vnd.jupyter.widget-view+json": {
              "version_major": 2,
              "version_minor": 0,
              "model_id": "97f321b845d740068951fc1cdcf71e50"
            }
          },
          "metadata": {}
        },
        {
          "output_type": "display_data",
          "data": {
            "text/plain": [
              "Output()"
            ],
            "application/vnd.jupyter.widget-view+json": {
              "version_major": 2,
              "version_minor": 0,
              "model_id": "d7391b644d6947509216b6abd676409e"
            }
          },
          "metadata": {}
        }
      ]
    },
    {
      "cell_type": "markdown",
      "metadata": {
        "id": "d7bf66b0"
      },
      "source": [
        "**Reasoning**:\n",
        "Modify the `generate_and_display_qr` function to store the image and create the `save_qr_image` function to handle saving the image with basic error handling, then link it to the save button.\n",
        "\n"
      ]
    },
    {
      "cell_type": "code",
      "metadata": {
        "id": "0b791851"
      },
      "source": [
        "def generate_and_display_qr(b):\n",
        "    global generated_image # Declare intention to use the global variable\n",
        "    with output_widget:\n",
        "        clear_output() # Clear previous output\n",
        "\n",
        "        data = data_input.value\n",
        "        fill_color = fill_color_input.value\n",
        "        back_color = back_color_input.value\n",
        "        box_size = box_size_input.value\n",
        "        border = border_input.value\n",
        "        error_correction = error_correction_dropdown.value\n",
        "\n",
        "        try:\n",
        "            qr = qrcode.QRCode(\n",
        "                version=None, # Auto-detect version\n",
        "                error_correction=error_correction,\n",
        "                box_size=box_size,\n",
        "                border=border,\n",
        "            )\n",
        "            qr.add_data(data)\n",
        "            qr.make(fit=True)\n",
        "\n",
        "            img = qr.make_image(fill_color=fill_color, back_color=back_color)\n",
        "\n",
        "            # Store the generated image\n",
        "            generated_image = img\n",
        "\n",
        "            # Display the image\n",
        "            img_byte_arr = io.BytesIO()\n",
        "            img.save(img_byte_arr, format='PNG')\n",
        "            img_byte_arr = img_byte_arr.getvalue()\n",
        "            display(Image.open(io.BytesIO(img_byte_arr)))\n",
        "\n",
        "        except Exception as e:\n",
        "            print(f\"An error occurred during QR code generation: {e}\")\n",
        "\n",
        "def save_qr_image(b):\n",
        "    global generated_image # Declare intention to use the global variable\n",
        "    with output_widget:\n",
        "        # Keep the displayed QR code, just show save status below it\n",
        "        # clear_output() # Do not clear output here\n",
        "\n",
        "        if generated_image is None:\n",
        "            print(\"No QR code generated yet.\")\n",
        "            return\n",
        "\n",
        "        filename = filename_input.value\n",
        "\n",
        "        if not filename:\n",
        "            print(\"Please enter a filename.\")\n",
        "            return\n",
        "\n",
        "        try:\n",
        "            generated_image.save(filename)\n",
        "            print(f\"QR code saved successfully as '{filename}'\")\n",
        "        except Exception as e:\n",
        "            print(f\"An error occurred while saving the QR code: {e}\")\n",
        "\n",
        "# Link the button click events to the functions\n",
        "generate_button.on_click(generate_and_display_qr)\n",
        "save_button.on_click(save_qr_image)"
      ],
      "execution_count": 30,
      "outputs": []
    },
    {
      "cell_type": "markdown",
      "metadata": {
        "id": "73a135e6"
      },
      "source": [
        "## Summary:\n",
        "\n",
        "### Data Analysis Key Findings\n",
        "\n",
        "*   The `qrcode` library was successfully installed and used to generate QR codes from text or URLs.\n",
        "*   The `Pillow` library was confirmed to be available and is used internally by `qrcode` for image handling.\n",
        "*   Customization options for the QR code, such as size (version), error correction level, box size, border, fill color, and back color, were successfully implemented using the `qrcode.QRCode` object.\n",
        "*   A user interface was created using `ipywidgets`, featuring input fields for data, colors, size parameters, a dropdown for error correction, and buttons for generating and saving the QR code.\n",
        "*   The generated QR code image can be displayed directly within the Jupyter output.\n",
        "*   Functionality to save the generated QR code image to a specified filename (e.g., PNG format) was added and linked to a \"Save QR Code\" button in the UI.\n",
        "\n",
        "### Insights or Next Steps\n",
        "\n",
        "*   The project provides a functional base for a customizable QR code generator. Further enhancements could include more advanced customization options (e.g., adding logos, different output formats) and more robust error handling for user inputs.\n",
        "*   Consider packaging this as a standalone application or a web service for broader accessibility beyond the Jupyter environment.\n"
      ]
    }
  ]
}