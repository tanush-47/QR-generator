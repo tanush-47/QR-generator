{
  "nbformat": 4,
  "nbformat_minor": 0,
  "metadata": {
    "colab": {
      "provenance": [],
      "authorship_tag": "ABX9TyODWTYgtOpfqlPO6RNgVV4A",
      "include_colab_link": true
    },
    "kernelspec": {
      "name": "python3",
      "display_name": "Python 3"
    },
    "language_info": {
      "name": "python"
    },
    "widgets": {
      "application/vnd.jupyter.widget-state+json": {
        "8ad7cf92f2aa4b8a9d22285ab0b2bd46": {
          "model_module": "@jupyter-widgets/controls",
          "model_name": "TextareaModel",
          "model_module_version": "1.5.0",
          "state": {
            "_dom_classes": [],
            "_model_module": "@jupyter-widgets/controls",
            "_model_module_version": "1.5.0",
            "_model_name": "TextareaModel",
            "_view_count": null,
            "_view_module": "@jupyter-widgets/controls",
            "_view_module_version": "1.5.0",
            "_view_name": "TextareaView",
            "continuous_update": true,
            "description": "Data:",
            "description_tooltip": null,
            "disabled": false,
            "layout": "IPY_MODEL_35998359d86143e38d8ac4a147005ed6",
            "placeholder": "​",
            "rows": null,
            "style": "IPY_MODEL_e089fa5d943a41c0910628c8d88c954a",
            "value": "Enter text or URL here"
          }
        },
        "35998359d86143e38d8ac4a147005ed6": {
          "model_module": "@jupyter-widgets/base",
          "model_name": "LayoutModel",
          "model_module_version": "1.2.0",
          "state": {
            "_model_module": "@jupyter-widgets/base",
            "_model_module_version": "1.2.0",
            "_model_name": "LayoutModel",
            "_view_count": null,
            "_view_module": "@jupyter-widgets/base",
            "_view_module_version": "1.2.0",
            "_view_name": "LayoutView",
            "align_content": null,
            "align_items": null,
            "align_self": null,
            "border": null,
            "bottom": null,
            "display": null,
            "flex": null,
            "flex_flow": null,
            "grid_area": null,
            "grid_auto_columns": null,
            "grid_auto_flow": null,
            "grid_auto_rows": null,
            "grid_column": null,
            "grid_gap": null,
            "grid_row": null,
            "grid_template_areas": null,
            "grid_template_columns": null,
            "grid_template_rows": null,
            "height": null,
            "justify_content": null,
            "justify_items": null,
            "left": null,
            "margin": null,
            "max_height": null,
            "max_width": null,
            "min_height": null,
            "min_width": null,
            "object_fit": null,
            "object_position": null,
            "order": null,
            "overflow": null,
            "overflow_x": null,
            "overflow_y": null,
            "padding": null,
            "right": null,
            "top": null,
            "visibility": null,
            "width": null
          }
        },
        "e089fa5d943a41c0910628c8d88c954a": {
          "model_module": "@jupyter-widgets/controls",
          "model_name": "DescriptionStyleModel",
          "model_module_version": "1.5.0",
          "state": {
            "_model_module": "@jupyter-widgets/controls",
            "_model_module_version": "1.5.0",
            "_model_name": "DescriptionStyleModel",
            "_view_count": null,
            "_view_module": "@jupyter-widgets/base",
            "_view_module_version": "1.2.0",
            "_view_name": "StyleView",
            "description_width": ""
          }
        },
        "308dc227c1fa45c8ba7e4017d029a4db": {
          "model_module": "@jupyter-widgets/controls",
          "model_name": "TextModel",
          "model_module_version": "1.5.0",
          "state": {
            "_dom_classes": [],
            "_model_module": "@jupyter-widgets/controls",
            "_model_module_version": "1.5.0",
            "_model_name": "TextModel",
            "_view_count": null,
            "_view_module": "@jupyter-widgets/controls",
            "_view_module_version": "1.5.0",
            "_view_name": "TextView",
            "continuous_update": true,
            "description": "Fill Color:",
            "description_tooltip": null,
            "disabled": false,
            "layout": "IPY_MODEL_9fe389c51a514abf9b03f9fe212874cf",
            "placeholder": "​",
            "style": "IPY_MODEL_82d981190b844a6085a31d674869a80a",
            "value": "black"
          }
        },
        "9fe389c51a514abf9b03f9fe212874cf": {
          "model_module": "@jupyter-widgets/base",
          "model_name": "LayoutModel",
          "model_module_version": "1.2.0",
          "state": {
            "_model_module": "@jupyter-widgets/base",
            "_model_module_version": "1.2.0",
            "_model_name": "LayoutModel",
            "_view_count": null,
            "_view_module": "@jupyter-widgets/base",
            "_view_module_version": "1.2.0",
            "_view_name": "LayoutView",
            "align_content": null,
            "align_items": null,
            "align_self": null,
            "border": null,
            "bottom": null,
            "display": null,
            "flex": null,
            "flex_flow": null,
            "grid_area": null,
            "grid_auto_columns": null,
            "grid_auto_flow": null,
            "grid_auto_rows": null,
            "grid_column": null,
            "grid_gap": null,
            "grid_row": null,
            "grid_template_areas": null,
            "grid_template_columns": null,
            "grid_template_rows": null,
            "height": null,
            "justify_content": null,
            "justify_items": null,
            "left": null,
            "margin": null,
            "max_height": null,
            "max_width": null,
            "min_height": null,
            "min_width": null,
            "object_fit": null,
            "object_position": null,
            "order": null,
            "overflow": null,
            "overflow_x": null,
            "overflow_y": null,
            "padding": null,
            "right": null,
            "top": null,
            "visibility": null,
            "width": null
          }
        },
        "82d981190b844a6085a31d674869a80a": {
          "model_module": "@jupyter-widgets/controls",
          "model_name": "DescriptionStyleModel",
          "model_module_version": "1.5.0",
          "state": {
            "_model_module": "@jupyter-widgets/controls",
            "_model_module_version": "1.5.0",
            "_model_name": "DescriptionStyleModel",
            "_view_count": null,
            "_view_module": "@jupyter-widgets/base",
            "_view_module_version": "1.2.0",
            "_view_name": "StyleView",
            "description_width": ""
          }
        },
        "9aadc0219bf541e88ebba6ccf1e07005": {
          "model_module": "@jupyter-widgets/controls",
          "model_name": "TextModel",
          "model_module_version": "1.5.0",
          "state": {
            "_dom_classes": [],
            "_model_module": "@jupyter-widgets/controls",
            "_model_module_version": "1.5.0",
            "_model_name": "TextModel",
            "_view_count": null,
            "_view_module": "@jupyter-widgets/controls",
            "_view_module_version": "1.5.0",
            "_view_name": "TextView",
            "continuous_update": true,
            "description": "Back Color:",
            "description_tooltip": null,
            "disabled": false,
            "layout": "IPY_MODEL_4b96149f6cb6466b9c36e4f7df079f5e",
            "placeholder": "​",
            "style": "IPY_MODEL_b8ab925079d742d5a0e0e562fff17817",
            "value": "white"
          }
        },
        "4b96149f6cb6466b9c36e4f7df079f5e": {
          "model_module": "@jupyter-widgets/base",
          "model_name": "LayoutModel",
          "model_module_version": "1.2.0",
          "state": {
            "_model_module": "@jupyter-widgets/base",
            "_model_module_version": "1.2.0",
            "_model_name": "LayoutModel",
            "_view_count": null,
            "_view_module": "@jupyter-widgets/base",
            "_view_module_version": "1.2.0",
            "_view_name": "LayoutView",
            "align_content": null,
            "align_items": null,
            "align_self": null,
            "border": null,
            "bottom": null,
            "display": null,
            "flex": null,
            "flex_flow": null,
            "grid_area": null,
            "grid_auto_columns": null,
            "grid_auto_flow": null,
            "grid_auto_rows": null,
            "grid_column": null,
            "grid_gap": null,
            "grid_row": null,
            "grid_template_areas": null,
            "grid_template_columns": null,
            "grid_template_rows": null,
            "height": null,
            "justify_content": null,
            "justify_items": null,
            "left": null,
            "margin": null,
            "max_height": null,
            "max_width": null,
            "min_height": null,
            "min_width": null,
            "object_fit": null,
            "object_position": null,
            "order": null,
            "overflow": null,
            "overflow_x": null,
            "overflow_y": null,
            "padding": null,
            "right": null,
            "top": null,
            "visibility": null,
            "width": null
          }
        },
        "b8ab925079d742d5a0e0e562fff17817": {
          "model_module": "@jupyter-widgets/controls",
          "model_name": "DescriptionStyleModel",
          "model_module_version": "1.5.0",
          "state": {
            "_model_module": "@jupyter-widgets/controls",
            "_model_module_version": "1.5.0",
            "_model_name": "DescriptionStyleModel",
            "_view_count": null,
            "_view_module": "@jupyter-widgets/base",
            "_view_module_version": "1.2.0",
            "_view_name": "StyleView",
            "description_width": ""
          }
        },
        "44addc56a54d462ca1df8be6413b2793": {
          "model_module": "@jupyter-widgets/controls",
          "model_name": "IntTextModel",
          "model_module_version": "1.5.0",
          "state": {
            "_dom_classes": [],
            "_model_module": "@jupyter-widgets/controls",
            "_model_module_version": "1.5.0",
            "_model_name": "IntTextModel",
            "_view_count": null,
            "_view_module": "@jupyter-widgets/controls",
            "_view_module_version": "1.5.0",
            "_view_name": "IntTextView",
            "continuous_update": false,
            "description": "Box Size:",
            "description_tooltip": null,
            "disabled": false,
            "layout": "IPY_MODEL_31d399410b42497aa36ba374e90c3722",
            "step": 1,
            "style": "IPY_MODEL_d5362b9d9bb14e97a28fe31e71202d9b",
            "value": 10
          }
        },
        "31d399410b42497aa36ba374e90c3722": {
          "model_module": "@jupyter-widgets/base",
          "model_name": "LayoutModel",
          "model_module_version": "1.2.0",
          "state": {
            "_model_module": "@jupyter-widgets/base",
            "_model_module_version": "1.2.0",
            "_model_name": "LayoutModel",
            "_view_count": null,
            "_view_module": "@jupyter-widgets/base",
            "_view_module_version": "1.2.0",
            "_view_name": "LayoutView",
            "align_content": null,
            "align_items": null,
            "align_self": null,
            "border": null,
            "bottom": null,
            "display": null,
            "flex": null,
            "flex_flow": null,
            "grid_area": null,
            "grid_auto_columns": null,
            "grid_auto_flow": null,
            "grid_auto_rows": null,
            "grid_column": null,
            "grid_gap": null,
            "grid_row": null,
            "grid_template_areas": null,
            "grid_template_columns": null,
            "grid_template_rows": null,
            "height": null,
            "justify_content": null,
            "justify_items": null,
            "left": null,
            "margin": null,
            "max_height": null,
            "max_width": null,
            "min_height": null,
            "min_width": null,
            "object_fit": null,
            "object_position": null,
            "order": null,
            "overflow": null,
            "overflow_x": null,
            "overflow_y": null,
            "padding": null,
            "right": null,
            "top": null,
            "visibility": null,
            "width": null
          }
        },
        "d5362b9d9bb14e97a28fe31e71202d9b": {
          "model_module": "@jupyter-widgets/controls",
          "model_name": "DescriptionStyleModel",
          "model_module_version": "1.5.0",
          "state": {
            "_model_module": "@jupyter-widgets/controls",
            "_model_module_version": "1.5.0",
            "_model_name": "DescriptionStyleModel",
            "_view_count": null,
            "_view_module": "@jupyter-widgets/base",
            "_view_module_version": "1.2.0",
            "_view_name": "StyleView",
            "description_width": ""
          }
        },
        "924b62699f374877b3046c7b72ebe2b0": {
          "model_module": "@jupyter-widgets/controls",
          "model_name": "IntTextModel",
          "model_module_version": "1.5.0",
          "state": {
            "_dom_classes": [],
            "_model_module": "@jupyter-widgets/controls",
            "_model_module_version": "1.5.0",
            "_model_name": "IntTextModel",
            "_view_count": null,
            "_view_module": "@jupyter-widgets/controls",
            "_view_module_version": "1.5.0",
            "_view_name": "IntTextView",
            "continuous_update": false,
            "description": "Border:",
            "description_tooltip": null,
            "disabled": false,
            "layout": "IPY_MODEL_b9b6ed00392145d0af113568114b4b65",
            "step": 1,
            "style": "IPY_MODEL_f567a270f0a249deabf368cb82fde8fe",
            "value": 4
          }
        },
        "b9b6ed00392145d0af113568114b4b65": {
          "model_module": "@jupyter-widgets/base",
          "model_name": "LayoutModel",
          "model_module_version": "1.2.0",
          "state": {
            "_model_module": "@jupyter-widgets/base",
            "_model_module_version": "1.2.0",
            "_model_name": "LayoutModel",
            "_view_count": null,
            "_view_module": "@jupyter-widgets/base",
            "_view_module_version": "1.2.0",
            "_view_name": "LayoutView",
            "align_content": null,
            "align_items": null,
            "align_self": null,
            "border": null,
            "bottom": null,
            "display": null,
            "flex": null,
            "flex_flow": null,
            "grid_area": null,
            "grid_auto_columns": null,
            "grid_auto_flow": null,
            "grid_auto_rows": null,
            "grid_column": null,
            "grid_gap": null,
            "grid_row": null,
            "grid_template_areas": null,
            "grid_template_columns": null,
            "grid_template_rows": null,
            "height": null,
            "justify_content": null,
            "justify_items": null,
            "left": null,
            "margin": null,
            "max_height": null,
            "max_width": null,
            "min_height": null,
            "min_width": null,
            "object_fit": null,
            "object_position": null,
            "order": null,
            "overflow": null,
            "overflow_x": null,
            "overflow_y": null,
            "padding": null,
            "right": null,
            "top": null,
            "visibility": null,
            "width": null
          }
        },
        "f567a270f0a249deabf368cb82fde8fe": {
          "model_module": "@jupyter-widgets/controls",
          "model_name": "DescriptionStyleModel",
          "model_module_version": "1.5.0",
          "state": {
            "_model_module": "@jupyter-widgets/controls",
            "_model_module_version": "1.5.0",
            "_model_name": "DescriptionStyleModel",
            "_view_count": null,
            "_view_module": "@jupyter-widgets/base",
            "_view_module_version": "1.2.0",
            "_view_name": "StyleView",
            "description_width": ""
          }
        },
        "91001480617c46cea4de2d06bdac2a82": {
          "model_module": "@jupyter-widgets/controls",
          "model_name": "DropdownModel",
          "model_module_version": "1.5.0",
          "state": {
            "_dom_classes": [],
            "_model_module": "@jupyter-widgets/controls",
            "_model_module_version": "1.5.0",
            "_model_name": "DropdownModel",
            "_options_labels": [
              "L (7%)",
              "M (15%)",
              "Q (25%)",
              "H (30%)"
            ],
            "_view_count": null,
            "_view_module": "@jupyter-widgets/controls",
            "_view_module_version": "1.5.0",
            "_view_name": "DropdownView",
            "description": "Error Correction:",
            "description_tooltip": null,
            "disabled": false,
            "index": 3,
            "layout": "IPY_MODEL_c327b34c9a5848c0ab92e5f1ae1e1f1f",
            "style": "IPY_MODEL_e2cd5c86a7eb432abaa12d3c7a1132a4"
          }
        },
        "c327b34c9a5848c0ab92e5f1ae1e1f1f": {
          "model_module": "@jupyter-widgets/base",
          "model_name": "LayoutModel",
          "model_module_version": "1.2.0",
          "state": {
            "_model_module": "@jupyter-widgets/base",
            "_model_module_version": "1.2.0",
            "_model_name": "LayoutModel",
            "_view_count": null,
            "_view_module": "@jupyter-widgets/base",
            "_view_module_version": "1.2.0",
            "_view_name": "LayoutView",
            "align_content": null,
            "align_items": null,
            "align_self": null,
            "border": null,
            "bottom": null,
            "display": null,
            "flex": null,
            "flex_flow": null,
            "grid_area": null,
            "grid_auto_columns": null,
            "grid_auto_flow": null,
            "grid_auto_rows": null,
            "grid_column": null,
            "grid_gap": null,
            "grid_row": null,
            "grid_template_areas": null,
            "grid_template_columns": null,
            "grid_template_rows": null,
            "height": null,
            "justify_content": null,
            "justify_items": null,
            "left": null,
            "margin": null,
            "max_height": null,
            "max_width": null,
            "min_height": null,
            "min_width": null,
            "object_fit": null,
            "object_position": null,
            "order": null,
            "overflow": null,
            "overflow_x": null,
            "overflow_y": null,
            "padding": null,
            "right": null,
            "top": null,
            "visibility": null,
            "width": null
          }
        },
        "e2cd5c86a7eb432abaa12d3c7a1132a4": {
          "model_module": "@jupyter-widgets/controls",
          "model_name": "DescriptionStyleModel",
          "model_module_version": "1.5.0",
          "state": {
            "_model_module": "@jupyter-widgets/controls",
            "_model_module_version": "1.5.0",
            "_model_name": "DescriptionStyleModel",
            "_view_count": null,
            "_view_module": "@jupyter-widgets/base",
            "_view_module_version": "1.2.0",
            "_view_name": "StyleView",
            "description_width": ""
          }
        },
        "7add720829b74646b5e103fadbfd4fa7": {
          "model_module": "@jupyter-widgets/controls",
          "model_name": "ButtonModel",
          "model_module_version": "1.5.0",
          "state": {
            "_dom_classes": [],
            "_model_module": "@jupyter-widgets/controls",
            "_model_module_version": "1.5.0",
            "_model_name": "ButtonModel",
            "_view_count": null,
            "_view_module": "@jupyter-widgets/controls",
            "_view_module_version": "1.5.0",
            "_view_name": "ButtonView",
            "button_style": "",
            "description": "Generate QR Code",
            "disabled": false,
            "icon": "",
            "layout": "IPY_MODEL_6d7da43095354ac893c7da45d9c2f885",
            "style": "IPY_MODEL_88a5be9099274e9a9d14551f048327d2",
            "tooltip": ""
          }
        },
        "6d7da43095354ac893c7da45d9c2f885": {
          "model_module": "@jupyter-widgets/base",
          "model_name": "LayoutModel",
          "model_module_version": "1.2.0",
          "state": {
            "_model_module": "@jupyter-widgets/base",
            "_model_module_version": "1.2.0",
            "_model_name": "LayoutModel",
            "_view_count": null,
            "_view_module": "@jupyter-widgets/base",
            "_view_module_version": "1.2.0",
            "_view_name": "LayoutView",
            "align_content": null,
            "align_items": null,
            "align_self": null,
            "border": null,
            "bottom": null,
            "display": null,
            "flex": null,
            "flex_flow": null,
            "grid_area": null,
            "grid_auto_columns": null,
            "grid_auto_flow": null,
            "grid_auto_rows": null,
            "grid_column": null,
            "grid_gap": null,
            "grid_row": null,
            "grid_template_areas": null,
            "grid_template_columns": null,
            "grid_template_rows": null,
            "height": null,
            "justify_content": null,
            "justify_items": null,
            "left": null,
            "margin": null,
            "max_height": null,
            "max_width": null,
            "min_height": null,
            "min_width": null,
            "object_fit": null,
            "object_position": null,
            "order": null,
            "overflow": null,
            "overflow_x": null,
            "overflow_y": null,
            "padding": null,
            "right": null,
            "top": null,
            "visibility": null,
            "width": null
          }
        },
        "88a5be9099274e9a9d14551f048327d2": {
          "model_module": "@jupyter-widgets/controls",
          "model_name": "ButtonStyleModel",
          "model_module_version": "1.5.0",
          "state": {
            "_model_module": "@jupyter-widgets/controls",
            "_model_module_version": "1.5.0",
            "_model_name": "ButtonStyleModel",
            "_view_count": null,
            "_view_module": "@jupyter-widgets/base",
            "_view_module_version": "1.2.0",
            "_view_name": "StyleView",
            "button_color": null,
            "font_weight": ""
          }
        },
        "3cd9aa90df0041baa336b39a0e5c5faf": {
          "model_module": "@jupyter-widgets/output",
          "model_name": "OutputModel",
          "model_module_version": "1.0.0",
          "state": {
            "_dom_classes": [],
            "_model_module": "@jupyter-widgets/output",
            "_model_module_version": "1.0.0",
            "_model_name": "OutputModel",
            "_view_count": null,
            "_view_module": "@jupyter-widgets/output",
            "_view_module_version": "1.0.0",
            "_view_name": "OutputView",
            "layout": "IPY_MODEL_9ccac8d319e04b72a70b47fd9dc873e2",
            "msg_id": "",
            "outputs": [
              {
                "output_type": "display_data",
                "data": {
                  "text/plain": "<PIL.PngImagePlugin.PngImageFile image mode=1 size=370x370>",
                  "image/png": "iVBORw0KGgoAAAANSUhEUgAAAXIAAAFyAQAAAADAX2ykAAADdElEQVR4Ae1bW47jIBCEzUjziW8wRzE3W+3N4qPMAVayP1eayFtVQOwosjP564ybD8zDH00V1d3gJM7hmTL8euZtvOvv7wPm+Dg+awR8P6zRuG87PveYrEccnzUa922b+MRa3kIYugs6HS2f3kLMU5vLHPJ4KhS2K5v8hn5mGWX3aZ7PaMT48S/iiS6LppzfCsPmwyi/gTLNspqt3yOa/XgqrGIAwi7Fqv3NvkfPo9l/JW4B5vQVh26kp/77NodpmWDraPj8tPXGDBLn+bPyri5GruWnrfe6sI3Gq6+36TfRFUOrEGwX5yGHiIELuxxbyquv96D2D4ixyppjRkKF+IsqT++oAtNplErxQfFZNviDljV8in7XCgWh6CJ1HroTpXsz5/H3xfht+22iQlVRvxlHX5yJSDJS55iXRbX3l5H9lr9vAh9oFTpNX8iaceqdz0kHXp2PLnTNcNJZhjpfgmGzsoYPZdouL3jgxSWHLjTAdEicmr/wysicmuVszX63Z3OrlQnRhiZvraDfwu8ZA+U6q3AOkkPv/BbEdmub+61wGZgwR94/5wRNDx8UNjhnpgX2tS6b9u9CfjN5NPur3y1uuMlUrhmChZzJagnHrt+bjbLRsbZ/WlwVjXTSC9OULvs8ICHT6tn0+LvBaxu2ya+0Kl9c4y+orYSm5qSd38bh3tMav+1+kgodMuIvtBpiSLzXmDqsJF34ik5KXJc1+90esrJT6HXhd/EGHlDtqiRIt8eoivvnFTLbTWv7rUbYfmQaBbNVKb9C61SprSdh9Dz+blOrGZv8gjlIVwmzfsTBlrpSLQz3/OoBr23aKL+8kGzSrVlzPRPT8Eq367exuP00yi+oK0VJtH6ao+usqt/UIrH7521qNWON32IPP/CyXLPphE9HjMn4poSx/jPimwN7nj8Lhe3KJr+SqRwyfprzjpNSpxXwVJQQiUulIaP2y7bvVEe1f4J6swCCdMV0kfOAB0SsX3Jw+qj4CJpvVNbxaazKU/PTL0Mvv/+6f/4Gu6+w/wuhWswJOdcIav90/E2HhqzvTxm5Ux3N/na/ASbBJQg9I+CqVTPpucZfveD3Gztbx+T+r/xWs8Uvz0JguubPScTr9hItPx89INiaf+BvJZ8o/v/uB2BZ49ft2SfM8XF81gj4flijcd92fO4xWY88i89/xuDy8iH8KxcAAAAASUVORK5CYII=\n",
                  "image/jpeg": "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\n"
                },
                "metadata": {}
              },
              {
                "output_type": "stream",
                "name": "stdout",
                "text": [
                  "QR code saved successfully as 'my_qrcode.png'\n"
                ]
              }
            ]
          }
        },
        "9ccac8d319e04b72a70b47fd9dc873e2": {
          "model_module": "@jupyter-widgets/base",
          "model_name": "LayoutModel",
          "model_module_version": "1.2.0",
          "state": {
            "_model_module": "@jupyter-widgets/base",
            "_model_module_version": "1.2.0",
            "_model_name": "LayoutModel",
            "_view_count": null,
            "_view_module": "@jupyter-widgets/base",
            "_view_module_version": "1.2.0",
            "_view_name": "LayoutView",
            "align_content": null,
            "align_items": null,
            "align_self": null,
            "border": null,
            "bottom": null,
            "display": null,
            "flex": null,
            "flex_flow": null,
            "grid_area": null,
            "grid_auto_columns": null,
            "grid_auto_flow": null,
            "grid_auto_rows": null,
            "grid_column": null,
            "grid_gap": null,
            "grid_row": null,
            "grid_template_areas": null,
            "grid_template_columns": null,
            "grid_template_rows": null,
            "height": null,
            "justify_content": null,
            "justify_items": null,
            "left": null,
            "margin": null,
            "max_height": null,
            "max_width": null,
            "min_height": null,
            "min_width": null,
            "object_fit": null,
            "object_position": null,
            "order": null,
            "overflow": null,
            "overflow_x": null,
            "overflow_y": null,
            "padding": null,
            "right": null,
            "top": null,
            "visibility": null,
            "width": null
          }
        },
        "0b071c5657df45ce9d250e156136a84d": {
          "model_module": "@jupyter-widgets/controls",
          "model_name": "TextModel",
          "model_module_version": "1.5.0",
          "state": {
            "_dom_classes": [],
            "_model_module": "@jupyter-widgets/controls",
            "_model_module_version": "1.5.0",
            "_model_name": "TextModel",
            "_view_count": null,
            "_view_module": "@jupyter-widgets/controls",
            "_view_module_version": "1.5.0",
            "_view_name": "TextView",
            "continuous_update": true,
            "description": "Filename:",
            "description_tooltip": null,
            "disabled": false,
            "layout": "IPY_MODEL_6bda116e27b246ab83e98a674c172758",
            "placeholder": "​",
            "style": "IPY_MODEL_bcb280480e86429dac2ea6961dbd58cf",
            "value": "my_qrcode.png"
          }
        },
        "6bda116e27b246ab83e98a674c172758": {
          "model_module": "@jupyter-widgets/base",
          "model_name": "LayoutModel",
          "model_module_version": "1.2.0",
          "state": {
            "_model_module": "@jupyter-widgets/base",
            "_model_module_version": "1.2.0",
            "_model_name": "LayoutModel",
            "_view_count": null,
            "_view_module": "@jupyter-widgets/base",
            "_view_module_version": "1.2.0",
            "_view_name": "LayoutView",
            "align_content": null,
            "align_items": null,
            "align_self": null,
            "border": null,
            "bottom": null,
            "display": null,
            "flex": null,
            "flex_flow": null,
            "grid_area": null,
            "grid_auto_columns": null,
            "grid_auto_flow": null,
            "grid_auto_rows": null,
            "grid_column": null,
            "grid_gap": null,
            "grid_row": null,
            "grid_template_areas": null,
            "grid_template_columns": null,
            "grid_template_rows": null,
            "height": null,
            "justify_content": null,
            "justify_items": null,
            "left": null,
            "margin": null,
            "max_height": null,
            "max_width": null,
            "min_height": null,
            "min_width": null,
            "object_fit": null,
            "object_position": null,
            "order": null,
            "overflow": null,
            "overflow_x": null,
            "overflow_y": null,
            "padding": null,
            "right": null,
            "top": null,
            "visibility": null,
            "width": null
          }
        },
        "bcb280480e86429dac2ea6961dbd58cf": {
          "model_module": "@jupyter-widgets/controls",
          "model_name": "DescriptionStyleModel",
          "model_module_version": "1.5.0",
          "state": {
            "_model_module": "@jupyter-widgets/controls",
            "_model_module_version": "1.5.0",
            "_model_name": "DescriptionStyleModel",
            "_view_count": null,
            "_view_module": "@jupyter-widgets/base",
            "_view_module_version": "1.2.0",
            "_view_name": "StyleView",
            "description_width": ""
          }
        },
        "b5b1b086534845c28d681310194a8951": {
          "model_module": "@jupyter-widgets/controls",
          "model_name": "ButtonModel",
          "model_module_version": "1.5.0",
          "state": {
            "_dom_classes": [],
            "_model_module": "@jupyter-widgets/controls",
            "_model_module_version": "1.5.0",
            "_model_name": "ButtonModel",
            "_view_count": null,
            "_view_module": "@jupyter-widgets/controls",
            "_view_module_version": "1.5.0",
            "_view_name": "ButtonView",
            "button_style": "",
            "description": "Save QR Code",
            "disabled": false,
            "icon": "",
            "layout": "IPY_MODEL_5ad8979da001425ba4bad961ef9dc56c",
            "style": "IPY_MODEL_40601f8c41c94abd8ef36578ef26dbbb",
            "tooltip": ""
          }
        },
        "5ad8979da001425ba4bad961ef9dc56c": {
          "model_module": "@jupyter-widgets/base",
          "model_name": "LayoutModel",
          "model_module_version": "1.2.0",
          "state": {
            "_model_module": "@jupyter-widgets/base",
            "_model_module_version": "1.2.0",
            "_model_name": "LayoutModel",
            "_view_count": null,
            "_view_module": "@jupyter-widgets/base",
            "_view_module_version": "1.2.0",
            "_view_name": "LayoutView",
            "align_content": null,
            "align_items": null,
            "align_self": null,
            "border": null,
            "bottom": null,
            "display": null,
            "flex": null,
            "flex_flow": null,
            "grid_area": null,
            "grid_auto_columns": null,
            "grid_auto_flow": null,
            "grid_auto_rows": null,
            "grid_column": null,
            "grid_gap": null,
            "grid_row": null,
            "grid_template_areas": null,
            "grid_template_columns": null,
            "grid_template_rows": null,
            "height": null,
            "justify_content": null,
            "justify_items": null,
            "left": null,
            "margin": null,
            "max_height": null,
            "max_width": null,
            "min_height": null,
            "min_width": null,
            "object_fit": null,
            "object_position": null,
            "order": null,
            "overflow": null,
            "overflow_x": null,
            "overflow_y": null,
            "padding": null,
            "right": null,
            "top": null,
            "visibility": null,
            "width": null
          }
        },
        "40601f8c41c94abd8ef36578ef26dbbb": {
          "model_module": "@jupyter-widgets/controls",
          "model_name": "ButtonStyleModel",
          "model_module_version": "1.5.0",
          "state": {
            "_model_module": "@jupyter-widgets/controls",
            "_model_module_version": "1.5.0",
            "_model_name": "ButtonStyleModel",
            "_view_count": null,
            "_view_module": "@jupyter-widgets/base",
            "_view_module_version": "1.2.0",
            "_view_name": "StyleView",
            "button_color": null,
            "font_weight": ""
          }
        }
      }
    }
  },
  "cells": [
    {
      "cell_type": "markdown",
      "metadata": {
        "id": "view-in-github",
        "colab_type": "text"
      },
      "source": [
        "<a href=\"https://colab.research.google.com/github/tanush-47/QR-generator/blob/main/QRcode.ipynb\" target=\"_parent\"><img src=\"https://colab.research.google.com/assets/colab-badge.svg\" alt=\"Open In Colab\"/></a>"
      ]
    },
    {
      "cell_type": "code",
      "execution_count": 10,
      "metadata": {
        "id": "mrlLoGQf8r5Z"
      },
      "outputs": [],
      "source": []
    },
    {
      "cell_type": "markdown",
      "metadata": {
        "id": "2bab737c"
      },
      "source": [
        "# Task\n",
        "Create a project for generating customizable QR codes with a user interface and the ability to save the generated QR code as an image file."
      ]
    },
    {
      "cell_type": "markdown",
      "metadata": {
        "id": "cd6f7a87"
      },
      "source": [
        "## Install necessary libraries\n",
        "\n",
        "### Subtask:\n",
        "Install libraries like `qrcode` and `Pillow` that are required for generating QR codes.\n"
      ]
    },
    {
      "cell_type": "markdown",
      "metadata": {
        "id": "45ee727f"
      },
      "source": [
        "**Reasoning**:\n",
        "Install the required libraries `qrcode` and `Pillow` using pip.\n",
        "\n"
      ]
    },
    {
      "cell_type": "code",
      "metadata": {
        "colab": {
          "base_uri": "https://localhost:8080/"
        },
        "id": "e97acd4c",
        "outputId": "97be3013-8ea4-462b-f2f3-3ac98ba74886"
      },
      "source": [
        "%pip install qrcode Pillow"
      ],
      "execution_count": 11,
      "outputs": [
        {
          "output_type": "stream",
          "name": "stdout",
          "text": [
            "Requirement already satisfied: qrcode in /usr/local/lib/python3.11/dist-packages (8.2)\n",
            "Requirement already satisfied: Pillow in /usr/local/lib/python3.11/dist-packages (11.2.1)\n"
          ]
        }
      ]
    },
    {
      "cell_type": "markdown",
      "metadata": {
        "id": "422965a0"
      },
      "source": [
        "## Generate a basic qr code\n",
        "\n",
        "### Subtask:\n",
        "Write code to generate a simple QR code for a given URL or text string.\n"
      ]
    },
    {
      "cell_type": "markdown",
      "metadata": {
        "id": "c20995ba"
      },
      "source": [
        "**Reasoning**:\n",
        "The subtask is to generate a simple QR code. This involves importing the qrcode library, defining the data, creating the QR code image object, and saving it to a file. These steps can be combined into a single code block.\n",
        "\n"
      ]
    },
    {
      "cell_type": "code",
      "metadata": {
        "id": "4af617bd"
      },
      "source": [
        "import qrcode\n",
        "\n",
        "# Define the data for the QR code\n",
        "data = \"https://www.example.com\"\n",
        "\n",
        "# Create QR code image object\n",
        "img = qrcode.make(data)\n",
        "\n",
        "# Save the image to a file\n",
        "img.save(\"basic_qr.png\")"
      ],
      "execution_count": 12,
      "outputs": []
    },
    {
      "cell_type": "markdown",
      "metadata": {
        "id": "da1db319"
      },
      "source": [
        "## Add customization options\n",
        "\n",
        "### Subtask:\n",
        "Modify the code to allow customization of QR code features like size, color, and error correction level.\n"
      ]
    },
    {
      "cell_type": "markdown",
      "metadata": {
        "id": "25b5b064"
      },
      "source": [
        "**Reasoning**:\n",
        "Import the necessary library and define the data to be encoded.\n",
        "\n"
      ]
    },
    {
      "cell_type": "code",
      "metadata": {
        "id": "19962441"
      },
      "source": [
        "# Define the data to be encoded in the QR code.\n",
        "data = \"This is a customizable QR code.\""
      ],
      "execution_count": 13,
      "outputs": []
    },
    {
      "cell_type": "markdown",
      "metadata": {
        "id": "559b1ab5"
      },
      "source": [
        "**Reasoning**:\n",
        "Create a QRCode object with custom parameters and add the data to it.\n",
        "\n"
      ]
    },
    {
      "cell_type": "code",
      "metadata": {
        "id": "de8d7866"
      },
      "source": [
        "# Create a QRCode object, specifying parameters for version (size), error correction level, box size, and border.\n",
        "# version: controls the size of the QR Code. None means auto-detect size. Integer from 1 to 40.\n",
        "# error_correction: controls the error correction level.\n",
        "# qrcode.constants.ERROR_CORRECT_L: About 7% or fewer errors can be corrected.\n",
        "# qrcode.constants.ERROR_CORRECT_M: About 15% or fewer errors can be corrected.\n",
        "# qrcode.constants.ERROR_CORRECT_Q: About 25% or fewer errors can be corrected.\n",
        "# qrcode.constants.ERROR_CORRECT_H: About 30% or fewer errors can be corrected.\n",
        "# box_size: controls how many pixels each \"box\" of the QR code is.\n",
        "# border: controls how many boxes thick the border should be (the default is 4, which is the minimum according to the spec).\n",
        "qr = qrcode.QRCode(\n",
        "    version=1,\n",
        "    error_correction=qrcode.constants.ERROR_CORRECT_H,\n",
        "    box_size=10,\n",
        "    border=4,\n",
        ")\n",
        "\n",
        "# Add the data to the QRCode object.\n",
        "qr.add_data(data)\n",
        "qr.make(fit=True)"
      ],
      "execution_count": 14,
      "outputs": []
    },
    {
      "cell_type": "markdown",
      "metadata": {
        "id": "cfdf8a7a"
      },
      "source": [
        "**Reasoning**:\n",
        "Create the QR code image with specified colors and save it to a file.\n",
        "\n"
      ]
    },
    {
      "cell_type": "code",
      "metadata": {
        "id": "3f78d05a"
      },
      "source": [
        "# Make the QR code image, specifying fill color and back color.\n",
        "img = qr.make_image(fill_color=\"blue\", back_color=\"white\")\n",
        "\n",
        "# Save the generated image to a file.\n",
        "img.save(\"customizable_qr.png\")"
      ],
      "execution_count": 15,
      "outputs": []
    },
    {
      "cell_type": "markdown",
      "metadata": {
        "id": "c95231a5"
      },
      "source": [
        "## Create a user interface\n",
        "\n",
        "### Subtask:\n",
        "Develop a simple user interface (e.g., using `ipywidgets`) to allow users to input data and customize QR code generation.\n"
      ]
    },
    {
      "cell_type": "markdown",
      "metadata": {
        "id": "3321aec8"
      },
      "source": [
        "**Reasoning**:\n",
        "Import necessary libraries for creating the user interface and displaying the QR code.\n",
        "\n"
      ]
    },
    {
      "cell_type": "code",
      "metadata": {
        "id": "365c157b"
      },
      "source": [
        "import ipywidgets as widgets\n",
        "from IPython.display import display, clear_output\n",
        "import qrcode\n",
        "import qrcode.constants\n",
        "from PIL import Image\n",
        "import io"
      ],
      "execution_count": 16,
      "outputs": []
    },
    {
      "cell_type": "markdown",
      "metadata": {
        "id": "c3575608"
      },
      "source": [
        "**Reasoning**:\n",
        "Create the input widgets for customizing the QR code generation.\n",
        "\n"
      ]
    },
    {
      "cell_type": "code",
      "metadata": {
        "id": "5ecf8344"
      },
      "source": [
        "# Create input widgets\n",
        "data_input = widgets.Textarea(description=\"Data:\", value=\"Enter text or URL here\")\n",
        "fill_color_input = widgets.Text(description=\"Fill Color:\", value=\"black\")\n",
        "back_color_input = widgets.Text(description=\"Back Color:\", value=\"white\")\n",
        "box_size_input = widgets.IntText(description=\"Box Size:\", value=10, min=1)\n",
        "border_input = widgets.IntText(description=\"Border:\", value=4, min=0)\n",
        "\n",
        "# Create a dropdown for error correction level\n",
        "error_correction_options = {\n",
        "    'L (7%)': qrcode.constants.ERROR_CORRECT_L,\n",
        "    'M (15%)': qrcode.constants.ERROR_CORRECT_M,\n",
        "    'Q (25%)': qrcode.constants.ERROR_CORRECT_Q,\n",
        "    'H (30%)': qrcode.constants.ERROR_CORRECT_H,\n",
        "}\n",
        "error_correction_dropdown = widgets.Dropdown(\n",
        "    options=error_correction_options,\n",
        "    value=qrcode.constants.ERROR_CORRECT_H,\n",
        "    description='Error Correction:'\n",
        ")\n",
        "\n",
        "# Create a button to generate the QR code\n",
        "generate_button = widgets.Button(description=\"Generate QR Code\")\n",
        "\n",
        "# Output widget to display the QR code image\n",
        "output_widget = widgets.Output()"
      ],
      "execution_count": 17,
      "outputs": []
    },
    {
      "cell_type": "markdown",
      "metadata": {
        "id": "e85f9b97"
      },
      "source": [
        "**Reasoning**:\n",
        "Define the function that generates and displays the QR code based on the widget values and link it to the button click event.\n",
        "\n"
      ]
    },
    {
      "cell_type": "code",
      "metadata": {
        "colab": {
          "base_uri": "https://localhost:8080/",
          "height": 631,
          "referenced_widgets": [
            "8ad7cf92f2aa4b8a9d22285ab0b2bd46",
            "35998359d86143e38d8ac4a147005ed6",
            "e089fa5d943a41c0910628c8d88c954a",
            "308dc227c1fa45c8ba7e4017d029a4db",
            "9fe389c51a514abf9b03f9fe212874cf",
            "82d981190b844a6085a31d674869a80a",
            "9aadc0219bf541e88ebba6ccf1e07005",
            "4b96149f6cb6466b9c36e4f7df079f5e",
            "b8ab925079d742d5a0e0e562fff17817",
            "44addc56a54d462ca1df8be6413b2793",
            "31d399410b42497aa36ba374e90c3722",
            "d5362b9d9bb14e97a28fe31e71202d9b",
            "924b62699f374877b3046c7b72ebe2b0",
            "b9b6ed00392145d0af113568114b4b65",
            "f567a270f0a249deabf368cb82fde8fe",
            "91001480617c46cea4de2d06bdac2a82",
            "c327b34c9a5848c0ab92e5f1ae1e1f1f",
            "e2cd5c86a7eb432abaa12d3c7a1132a4",
            "7add720829b74646b5e103fadbfd4fa7",
            "6d7da43095354ac893c7da45d9c2f885",
            "88a5be9099274e9a9d14551f048327d2",
            "3cd9aa90df0041baa336b39a0e5c5faf",
            "9ccac8d319e04b72a70b47fd9dc873e2"
          ]
        },
        "id": "59b3ded3",
        "outputId": "c052b697-f513-4247-ca3c-5f00b73b22c2"
      },
      "source": [
        "def generate_and_display_qr(b):\n",
        "    with output_widget:\n",
        "        clear_output() # Clear previous output\n",
        "\n",
        "        data = data_input.value\n",
        "        fill_color = fill_color_input.value\n",
        "        back_color = back_color_input.value\n",
        "        box_size = box_size_input.value\n",
        "        border = border_input.value\n",
        "        error_correction = error_correction_dropdown.value\n",
        "\n",
        "        try:\n",
        "            qr = qrcode.QRCode(\n",
        "                version=None, # Auto-detect version\n",
        "                error_correction=error_correction,\n",
        "                box_size=box_size,\n",
        "                border=border,\n",
        "            )\n",
        "            qr.add_data(data)\n",
        "            qr.make(fit=True)\n",
        "\n",
        "            img = qr.make_image(fill_color=fill_color, back_color=back_color)\n",
        "\n",
        "            # Display the image\n",
        "            img_byte_arr = io.BytesIO()\n",
        "            img.save(img_byte_arr, format='PNG')\n",
        "            img_byte_arr = img_byte_arr.getvalue()\n",
        "            display(Image.open(io.BytesIO(img_byte_arr)))\n",
        "\n",
        "        except Exception as e:\n",
        "            print(f\"An error occurred: {e}\")\n",
        "\n",
        "# Link the button to the function\n",
        "generate_button.on_click(generate_and_display_qr)\n",
        "\n",
        "# Arrange and display the widgets\n",
        "display(data_input, fill_color_input, back_color_input, box_size_input, border_input, error_correction_dropdown, generate_button, output_widget)"
      ],
      "execution_count": 18,
      "outputs": [
        {
          "output_type": "display_data",
          "data": {
            "text/plain": [
              "Textarea(value='Enter text or URL here', description='Data:')"
            ],
            "application/vnd.jupyter.widget-view+json": {
              "version_major": 2,
              "version_minor": 0,
              "model_id": "8ad7cf92f2aa4b8a9d22285ab0b2bd46"
            }
          },
          "metadata": {}
        },
        {
          "output_type": "display_data",
          "data": {
            "text/plain": [
              "Text(value='black', description='Fill Color:')"
            ],
            "application/vnd.jupyter.widget-view+json": {
              "version_major": 2,
              "version_minor": 0,
              "model_id": "308dc227c1fa45c8ba7e4017d029a4db"
            }
          },
          "metadata": {}
        },
        {
          "output_type": "display_data",
          "data": {
            "text/plain": [
              "Text(value='white', description='Back Color:')"
            ],
            "application/vnd.jupyter.widget-view+json": {
              "version_major": 2,
              "version_minor": 0,
              "model_id": "9aadc0219bf541e88ebba6ccf1e07005"
            }
          },
          "metadata": {}
        },
        {
          "output_type": "display_data",
          "data": {
            "text/plain": [
              "IntText(value=10, description='Box Size:')"
            ],
            "application/vnd.jupyter.widget-view+json": {
              "version_major": 2,
              "version_minor": 0,
              "model_id": "44addc56a54d462ca1df8be6413b2793"
            }
          },
          "metadata": {}
        },
        {
          "output_type": "display_data",
          "data": {
            "text/plain": [
              "IntText(value=4, description='Border:')"
            ],
            "application/vnd.jupyter.widget-view+json": {
              "version_major": 2,
              "version_minor": 0,
              "model_id": "924b62699f374877b3046c7b72ebe2b0"
            }
          },
          "metadata": {}
        },
        {
          "output_type": "display_data",
          "data": {
            "text/plain": [
              "Dropdown(description='Error Correction:', index=3, options={'L (7%)': 1, 'M (15%)': 0, 'Q (25%)': 3, 'H (30%)'…"
            ],
            "application/vnd.jupyter.widget-view+json": {
              "version_major": 2,
              "version_minor": 0,
              "model_id": "91001480617c46cea4de2d06bdac2a82"
            }
          },
          "metadata": {}
        },
        {
          "output_type": "display_data",
          "data": {
            "text/plain": [
              "Button(description='Generate QR Code', style=ButtonStyle())"
            ],
            "application/vnd.jupyter.widget-view+json": {
              "version_major": 2,
              "version_minor": 0,
              "model_id": "7add720829b74646b5e103fadbfd4fa7"
            }
          },
          "metadata": {}
        },
        {
          "output_type": "display_data",
          "data": {
            "text/plain": [
              "Output()"
            ],
            "application/vnd.jupyter.widget-view+json": {
              "version_major": 2,
              "version_minor": 0,
              "model_id": "3cd9aa90df0041baa336b39a0e5c5faf"
            }
          },
          "metadata": {}
        }
      ]
    },
    {
      "cell_type": "markdown",
      "metadata": {
        "id": "f0b9fb57"
      },
      "source": [
        "## Save the qr code\n",
        "\n",
        "### Subtask:\n",
        "Add functionality to save the generated QR code as an image file (e.g., PNG).\n"
      ]
    },
    {
      "cell_type": "markdown",
      "metadata": {
        "id": "a06ddc0c"
      },
      "source": [
        "**Reasoning**:\n",
        "Add the filename input and save button widgets to the user interface definition.\n",
        "\n"
      ]
    },
    {
      "cell_type": "code",
      "metadata": {
        "colab": {
          "base_uri": "https://localhost:8080/",
          "height": 693,
          "referenced_widgets": [
            "8ad7cf92f2aa4b8a9d22285ab0b2bd46",
            "35998359d86143e38d8ac4a147005ed6",
            "e089fa5d943a41c0910628c8d88c954a",
            "308dc227c1fa45c8ba7e4017d029a4db",
            "9fe389c51a514abf9b03f9fe212874cf",
            "82d981190b844a6085a31d674869a80a",
            "9aadc0219bf541e88ebba6ccf1e07005",
            "4b96149f6cb6466b9c36e4f7df079f5e",
            "b8ab925079d742d5a0e0e562fff17817",
            "44addc56a54d462ca1df8be6413b2793",
            "31d399410b42497aa36ba374e90c3722",
            "d5362b9d9bb14e97a28fe31e71202d9b",
            "924b62699f374877b3046c7b72ebe2b0",
            "b9b6ed00392145d0af113568114b4b65",
            "f567a270f0a249deabf368cb82fde8fe",
            "91001480617c46cea4de2d06bdac2a82",
            "c327b34c9a5848c0ab92e5f1ae1e1f1f",
            "e2cd5c86a7eb432abaa12d3c7a1132a4",
            "0b071c5657df45ce9d250e156136a84d",
            "6bda116e27b246ab83e98a674c172758",
            "bcb280480e86429dac2ea6961dbd58cf",
            "7add720829b74646b5e103fadbfd4fa7",
            "6d7da43095354ac893c7da45d9c2f885",
            "88a5be9099274e9a9d14551f048327d2",
            "b5b1b086534845c28d681310194a8951",
            "5ad8979da001425ba4bad961ef9dc56c",
            "40601f8c41c94abd8ef36578ef26dbbb",
            "3cd9aa90df0041baa336b39a0e5c5faf",
            "9ccac8d319e04b72a70b47fd9dc873e2"
          ]
        },
        "id": "b2b599bb",
        "outputId": "3e2cd560-4626-458a-e666-80ed96b3d903"
      },
      "source": [
        "# Add new widgets for saving\n",
        "filename_input = widgets.Text(description=\"Filename:\", value=\"my_qrcode.png\")\n",
        "save_button = widgets.Button(description=\"Save QR Code\")\n",
        "\n",
        "# Arrange and display the widgets, including the new ones\n",
        "display(data_input, fill_color_input, back_color_input, box_size_input, border_input, error_correction_dropdown, filename_input, generate_button, save_button, output_widget)\n",
        "\n",
        "# Global variable to store the generated image\n",
        "generated_image = None"
      ],
      "execution_count": 19,
      "outputs": [
        {
          "output_type": "display_data",
          "data": {
            "text/plain": [
              "Textarea(value='Enter text or URL here', description='Data:')"
            ],
            "application/vnd.jupyter.widget-view+json": {
              "version_major": 2,
              "version_minor": 0,
              "model_id": "8ad7cf92f2aa4b8a9d22285ab0b2bd46"
            }
          },
          "metadata": {}
        },
        {
          "output_type": "display_data",
          "data": {
            "text/plain": [
              "Text(value='black', description='Fill Color:')"
            ],
            "application/vnd.jupyter.widget-view+json": {
              "version_major": 2,
              "version_minor": 0,
              "model_id": "308dc227c1fa45c8ba7e4017d029a4db"
            }
          },
          "metadata": {}
        },
        {
          "output_type": "display_data",
          "data": {
            "text/plain": [
              "Text(value='white', description='Back Color:')"
            ],
            "application/vnd.jupyter.widget-view+json": {
              "version_major": 2,
              "version_minor": 0,
              "model_id": "9aadc0219bf541e88ebba6ccf1e07005"
            }
          },
          "metadata": {}
        },
        {
          "output_type": "display_data",
          "data": {
            "text/plain": [
              "IntText(value=10, description='Box Size:')"
            ],
            "application/vnd.jupyter.widget-view+json": {
              "version_major": 2,
              "version_minor": 0,
              "model_id": "44addc56a54d462ca1df8be6413b2793"
            }
          },
          "metadata": {}
        },
        {
          "output_type": "display_data",
          "data": {
            "text/plain": [
              "IntText(value=4, description='Border:')"
            ],
            "application/vnd.jupyter.widget-view+json": {
              "version_major": 2,
              "version_minor": 0,
              "model_id": "924b62699f374877b3046c7b72ebe2b0"
            }
          },
          "metadata": {}
        },
        {
          "output_type": "display_data",
          "data": {
            "text/plain": [
              "Dropdown(description='Error Correction:', index=3, options={'L (7%)': 1, 'M (15%)': 0, 'Q (25%)': 3, 'H (30%)'…"
            ],
            "application/vnd.jupyter.widget-view+json": {
              "version_major": 2,
              "version_minor": 0,
              "model_id": "91001480617c46cea4de2d06bdac2a82"
            }
          },
          "metadata": {}
        },
        {
          "output_type": "display_data",
          "data": {
            "text/plain": [
              "Text(value='my_qrcode.png', description='Filename:')"
            ],
            "application/vnd.jupyter.widget-view+json": {
              "version_major": 2,
              "version_minor": 0,
              "model_id": "0b071c5657df45ce9d250e156136a84d"
            }
          },
          "metadata": {}
        },
        {
          "output_type": "display_data",
          "data": {
            "text/plain": [
              "Button(description='Generate QR Code', style=ButtonStyle())"
            ],
            "application/vnd.jupyter.widget-view+json": {
              "version_major": 2,
              "version_minor": 0,
              "model_id": "7add720829b74646b5e103fadbfd4fa7"
            }
          },
          "metadata": {}
        },
        {
          "output_type": "display_data",
          "data": {
            "text/plain": [
              "Button(description='Save QR Code', style=ButtonStyle())"
            ],
            "application/vnd.jupyter.widget-view+json": {
              "version_major": 2,
              "version_minor": 0,
              "model_id": "b5b1b086534845c28d681310194a8951"
            }
          },
          "metadata": {}
        },
        {
          "output_type": "display_data",
          "data": {
            "text/plain": [
              "Output()"
            ],
            "application/vnd.jupyter.widget-view+json": {
              "version_major": 2,
              "version_minor": 0,
              "model_id": "3cd9aa90df0041baa336b39a0e5c5faf"
            }
          },
          "metadata": {}
        }
      ]
    },
    {
      "cell_type": "markdown",
      "metadata": {
        "id": "d7bf66b0"
      },
      "source": [
        "**Reasoning**:\n",
        "Modify the `generate_and_display_qr` function to store the image and create the `save_qr_image` function to handle saving the image with basic error handling, then link it to the save button.\n",
        "\n"
      ]
    },
    {
      "cell_type": "code",
      "metadata": {
        "id": "0b791851"
      },
      "source": [
        "def generate_and_display_qr(b):\n",
        "    global generated_image # Declare intention to use the global variable\n",
        "    with output_widget:\n",
        "        clear_output() # Clear previous output\n",
        "\n",
        "        data = data_input.value\n",
        "        fill_color = fill_color_input.value\n",
        "        back_color = back_color_input.value\n",
        "        box_size = box_size_input.value\n",
        "        border = border_input.value\n",
        "        error_correction = error_correction_dropdown.value\n",
        "\n",
        "        try:\n",
        "            qr = qrcode.QRCode(\n",
        "                version=None, # Auto-detect version\n",
        "                error_correction=error_correction,\n",
        "                box_size=box_size,\n",
        "                border=border,\n",
        "            )\n",
        "            qr.add_data(data)\n",
        "            qr.make(fit=True)\n",
        "\n",
        "            img = qr.make_image(fill_color=fill_color, back_color=back_color)\n",
        "\n",
        "            # Store the generated image\n",
        "            generated_image = img\n",
        "\n",
        "            # Display the image\n",
        "            img_byte_arr = io.BytesIO()\n",
        "            img.save(img_byte_arr, format='PNG')\n",
        "            img_byte_arr = img_byte_arr.getvalue()\n",
        "            display(Image.open(io.BytesIO(img_byte_arr)))\n",
        "\n",
        "        except Exception as e:\n",
        "            print(f\"An error occurred during QR code generation: {e}\")\n",
        "\n",
        "def save_qr_image(b):\n",
        "    global generated_image # Declare intention to use the global variable\n",
        "    with output_widget:\n",
        "        # Keep the displayed QR code, just show save status below it\n",
        "        # clear_output() # Do not clear output here\n",
        "\n",
        "        if generated_image is None:\n",
        "            print(\"No QR code generated yet.\")\n",
        "            return\n",
        "\n",
        "        filename = filename_input.value\n",
        "\n",
        "        if not filename:\n",
        "            print(\"Please enter a filename.\")\n",
        "            return\n",
        "\n",
        "        try:\n",
        "            generated_image.save(filename)\n",
        "            print(f\"QR code saved successfully as '{filename}'\")\n",
        "        except Exception as e:\n",
        "            print(f\"An error occurred while saving the QR code: {e}\")\n",
        "\n",
        "# Link the button click events to the functions\n",
        "generate_button.on_click(generate_and_display_qr)\n",
        "save_button.on_click(save_qr_image)"
      ],
      "execution_count": 20,
      "outputs": []
    },
    {
      "cell_type": "markdown",
      "metadata": {
        "id": "73a135e6"
      },
      "source": [
        "## Summary:\n",
        "\n",
        "### Data Analysis Key Findings\n",
        "\n",
        "*   The `qrcode` library was successfully installed and used to generate QR codes from text or URLs.\n",
        "*   The `Pillow` library was confirmed to be available and is used internally by `qrcode` for image handling.\n",
        "*   Customization options for the QR code, such as size (version), error correction level, box size, border, fill color, and back color, were successfully implemented using the `qrcode.QRCode` object.\n",
        "*   A user interface was created using `ipywidgets`, featuring input fields for data, colors, size parameters, a dropdown for error correction, and buttons for generating and saving the QR code.\n",
        "*   The generated QR code image can be displayed directly within the Jupyter output.\n",
        "*   Functionality to save the generated QR code image to a specified filename (e.g., PNG format) was added and linked to a \"Save QR Code\" button in the UI.\n",
        "\n",
        "### Insights or Next Steps\n",
        "\n",
        "*   The project provides a functional base for a customizable QR code generator. Further enhancements could include more advanced customization options (e.g., adding logos, different output formats) and more robust error handling for user inputs.\n",
        "*   Consider packaging this as a standalone application or a web service for broader accessibility beyond the Jupyter environment.\n"
      ]
    }
  ]
}